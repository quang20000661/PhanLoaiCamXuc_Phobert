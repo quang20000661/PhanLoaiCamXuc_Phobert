{
  "nbformat": 4,
  "nbformat_minor": 0,
  "metadata": {
    "colab": {
      "provenance": [],
      "toc_visible": true,
      "gpuType": "T4"
    },
    "kernelspec": {
      "name": "python3",
      "display_name": "Python 3"
    },
    "language_info": {
      "name": "python"
    },
    "accelerator": "GPU"
  },
  "cells": [
    {
      "cell_type": "code",
      "source": [
        "from google.colab import drive\n",
        "drive.mount('/content/drive')"
      ],
      "metadata": {
        "colab": {
          "base_uri": "https://localhost:8080/"
        },
        "id": "t49ckdmabh-j",
        "outputId": "a0eb4be4-2048-4dcb-c44b-f5bcce2d06e8"
      },
      "execution_count": null,
      "outputs": [
        {
          "output_type": "stream",
          "name": "stdout",
          "text": [
            "Mounted at /content/drive\n"
          ]
        }
      ]
    },
    {
      "cell_type": "markdown",
      "source": [
        "# Import một số thư viện quan trọng"
      ],
      "metadata": {
        "id": "97NEDNYHboPm"
      }
    },
    {
      "cell_type": "code",
      "execution_count": null,
      "metadata": {
        "id": "Z5wSB2-zarcK"
      },
      "outputs": [],
      "source": [
        "import pandas as pd\n",
        "import numpy as np"
      ]
    },
    {
      "cell_type": "code",
      "source": [
        "#Python Vietnamese Toolkit\n",
        "!pip install pyvi"
      ],
      "metadata": {
        "colab": {
          "base_uri": "https://localhost:8080/"
        },
        "id": "GoasYUAGfbLv",
        "outputId": "f70152c4-f06c-491c-c31b-73ce97db6997"
      },
      "execution_count": null,
      "outputs": [
        {
          "output_type": "stream",
          "name": "stdout",
          "text": [
            "Looking in indexes: https://pypi.org/simple, https://us-python.pkg.dev/colab-wheels/public/simple/\n",
            "Collecting pyvi\n",
            "  Downloading pyvi-0.1.1-py2.py3-none-any.whl (8.5 MB)\n",
            "\u001b[2K     \u001b[90m━━━━━━━━━━━━━━━━━━━━━━━━━━━━━━━━━━━━━━━━\u001b[0m \u001b[32m8.5/8.5 MB\u001b[0m \u001b[31m63.3 MB/s\u001b[0m eta \u001b[36m0:00:00\u001b[0m\n",
            "\u001b[?25hRequirement already satisfied: scikit-learn in /usr/local/lib/python3.10/dist-packages (from pyvi) (1.2.2)\n",
            "Collecting sklearn-crfsuite (from pyvi)\n",
            "  Downloading sklearn_crfsuite-0.3.6-py2.py3-none-any.whl (12 kB)\n",
            "Requirement already satisfied: numpy>=1.17.3 in /usr/local/lib/python3.10/dist-packages (from scikit-learn->pyvi) (1.22.4)\n",
            "Requirement already satisfied: scipy>=1.3.2 in /usr/local/lib/python3.10/dist-packages (from scikit-learn->pyvi) (1.10.1)\n",
            "Requirement already satisfied: joblib>=1.1.1 in /usr/local/lib/python3.10/dist-packages (from scikit-learn->pyvi) (1.2.0)\n",
            "Requirement already satisfied: threadpoolctl>=2.0.0 in /usr/local/lib/python3.10/dist-packages (from scikit-learn->pyvi) (3.1.0)\n",
            "Collecting python-crfsuite>=0.8.3 (from sklearn-crfsuite->pyvi)\n",
            "  Downloading python_crfsuite-0.9.9-cp310-cp310-manylinux_2_17_x86_64.manylinux2014_x86_64.whl (993 kB)\n",
            "\u001b[2K     \u001b[90m━━━━━━━━━━━━━━━━━━━━━━━━━━━━━━━━━━━━━━\u001b[0m \u001b[32m993.5/993.5 kB\u001b[0m \u001b[31m73.1 MB/s\u001b[0m eta \u001b[36m0:00:00\u001b[0m\n",
            "\u001b[?25hRequirement already satisfied: six in /usr/local/lib/python3.10/dist-packages (from sklearn-crfsuite->pyvi) (1.16.0)\n",
            "Requirement already satisfied: tabulate in /usr/local/lib/python3.10/dist-packages (from sklearn-crfsuite->pyvi) (0.8.10)\n",
            "Requirement already satisfied: tqdm>=2.0 in /usr/local/lib/python3.10/dist-packages (from sklearn-crfsuite->pyvi) (4.65.0)\n",
            "Installing collected packages: python-crfsuite, sklearn-crfsuite, pyvi\n",
            "Successfully installed python-crfsuite-0.9.9 pyvi-0.1.1 sklearn-crfsuite-0.3.6\n"
          ]
        }
      ]
    },
    {
      "cell_type": "markdown",
      "source": [
        "# Load data"
      ],
      "metadata": {
        "id": "LOnNN6jtcM4f"
      }
    },
    {
      "cell_type": "code",
      "source": [
        "DATA = '/content/drive/MyDrive/Hate Speech Detection/vihsd/train.csv'\n",
        "DEV_DATA = '/content/drive/MyDrive/Hate Speech Detection/vihsd/dev.csv'\n",
        "TEST_DATA = '/content/drive/MyDrive/Hate Speech Detection/vihsd/test.csv'\n",
        "\n",
        "# read data\n",
        "train_data = pd.read_csv(DATA)\n",
        "dev_data = pd.read_csv(DEV_DATA)\n",
        "test_data = pd.read_csv(TEST_DATA)\n",
        "\n",
        "print(len(train_data))\n",
        "print(len(dev_data))\n",
        "print(len(test_data))\n",
        "\n",
        "X_train = train_data['free_text']\n",
        "y_train = train_data['label_id'].values\n",
        "\n",
        "X_dev = dev_data['free_text']\n",
        "y_dev = dev_data['label_id'].values\n",
        "\n",
        "X_test = test_data['free_text']\n",
        "y_test = test_data['label_id'].values"
      ],
      "metadata": {
        "colab": {
          "base_uri": "https://localhost:8080/"
        },
        "id": "C3rhlVN_cMVP",
        "outputId": "03b78153-a49a-4f03-8eff-248aa61ec386"
      },
      "execution_count": null,
      "outputs": [
        {
          "output_type": "stream",
          "name": "stdout",
          "text": [
            "24048\n",
            "2672\n",
            "6680\n"
          ]
        }
      ]
    },
    {
      "cell_type": "code",
      "source": [
        "print('Phần tử đầu tiên trong X_train:')\n",
        "print('\\t', X_train[0])\n",
        "print('Phần tử đầu tiên trong X_dev:')\n",
        "print('\\t', X_dev[0])\n",
        "print('Phần tử đầu tiên trong X_test:')\n",
        "print('\\t', X_test[0])"
      ],
      "metadata": {
        "colab": {
          "base_uri": "https://localhost:8080/"
        },
        "id": "mmqFECRBcics",
        "outputId": "d9d62d21-2262-446f-f8e2-fcdbe78500b2"
      },
      "execution_count": null,
      "outputs": [
        {
          "output_type": "stream",
          "name": "stdout",
          "text": [
            "Phần tử đầu tiên trong X_train:\n",
            "\t Em được làm fan cứng luôn rồi nè ❤️ reaction quá hay quá cute coi mấy giờ này quá hợp lí =]]]\n",
            "Phần tử đầu tiên trong X_dev:\n",
            "\t Coi cười xỉu\n",
            "Phần tử đầu tiên trong X_test:\n",
            "\t Đừng cố biện minh =)))) choi lon\n"
          ]
        }
      ]
    },
    {
      "cell_type": "markdown",
      "source": [
        "# Tiền xử lí dữ liệu"
      ],
      "metadata": {
        "id": "7AeTGUNbdM5Q"
      }
    },
    {
      "cell_type": "markdown",
      "source": [
        "## Xử lí stopword trong tiếng Việt"
      ],
      "metadata": {
        "id": "3kDTLn7GgCmg"
      }
    },
    {
      "cell_type": "markdown",
      "source": [
        "Stop Words là một số từ ngữ, bị các công cụ tìm kiếm bỏ qua một phần hoặc hoàn toàn. Những từ như : “a, an, of, or, many vv …” chiếm khoảng 25% các bài viết blog trên web. Các từ này không hề có liên quan gì đến nội dung và ý nghĩa của bài viết. Các công cụ tìm kiếm, trong cả những truy vấn tìm kiếm lẫn trong kết quả đề xuất, thường bỏ qua những Stop Words này."
      ],
      "metadata": {
        "id": "B18cMYIbgAql"
      }
    },
    {
      "cell_type": "code",
      "source": [
        "STOPWORDS = '/content/drive/MyDrive/Hate Speech Detection/vihsd/vietnamese-stopwords-dash.txt'\n",
        "with open(STOPWORDS, \"r\") as ins:\n",
        "    stopwords = []\n",
        "    for line in ins:\n",
        "        dd = line.strip('\\n')\n",
        "        stopwords.append(dd)\n",
        "    stopwords = set(stopwords)\n",
        "print('Năm stopword đầu tiên: ')\n",
        "list(stopwords)[:5]"
      ],
      "metadata": {
        "colab": {
          "base_uri": "https://localhost:8080/"
        },
        "id": "oayeLCshgAK0",
        "outputId": "d8098ef9-27e5-4e49-a48c-8a7f8fd84adf"
      },
      "execution_count": null,
      "outputs": [
        {
          "output_type": "stream",
          "name": "stdout",
          "text": [
            "Năm stopword đầu tiên: \n"
          ]
        },
        {
          "output_type": "execute_result",
          "data": {
            "text/plain": [
              "['trong_lúc', 'veo_veo', 'bằng_được', 'nghe_đâu_như', 'thanh']"
            ]
          },
          "metadata": {},
          "execution_count": 6
        }
      ]
    },
    {
      "cell_type": "code",
      "source": [
        "#Lọc các stopword\n",
        "def filter_stop_words(train_sentences, stop_words):\n",
        "  new_sent = [word for word in train_sentences.split() if word not in stop_words]\n",
        "  train_sentences = ' '.join(new_sent)\n",
        "  return train_sentences"
      ],
      "metadata": {
        "id": "IG1HJAIjhB7x"
      },
      "execution_count": null,
      "outputs": []
    },
    {
      "cell_type": "code",
      "source": [
        "x = filter_stop_words(X_train[0], stopwords)\n",
        "print(X_train[0])\n",
        "print(x)"
      ],
      "metadata": {
        "colab": {
          "base_uri": "https://localhost:8080/"
        },
        "id": "ZCHRdagahUy0",
        "outputId": "e677f538-09de-433d-9086-f87146cca2dc"
      },
      "execution_count": null,
      "outputs": [
        {
          "output_type": "stream",
          "name": "stdout",
          "text": [
            "Em được làm fan cứng luôn rồi nè ❤️ reaction quá hay quá cute coi mấy giờ này quá hợp lí =]]]\n",
            "Em fan cứng nè ❤️ reaction cute coi mấy hợp lí =]]]\n"
          ]
        }
      ]
    },
    {
      "cell_type": "markdown",
      "source": [
        "## Xử lí emoji - biểu tượng cảm xúc trong tiếng Việt"
      ],
      "metadata": {
        "id": "Jy5bncBHhsW6"
      }
    },
    {
      "cell_type": "code",
      "source": [
        "import re\n",
        "def deEmojify(text):\n",
        "    regrex_pattern = re.compile(pattern = \"[\"\n",
        "        u\"\\U0001F600-\\U0001F64F\"  # emoticons\n",
        "        u\"\\U0001F300-\\U0001F5FF\"  # symbols & pictographs\n",
        "        u\"\\U0001F680-\\U0001F6FF\"  # transport & map symbols\n",
        "        u\"\\U0001F1E0-\\U0001F1FF\"  # flags (iOS)\n",
        "                           \"]+\", flags = re.UNICODE)\n",
        "    return regrex_pattern.sub(r'',text)"
      ],
      "metadata": {
        "id": "IkeRLBaJh1VQ"
      },
      "execution_count": null,
      "outputs": []
    },
    {
      "cell_type": "markdown",
      "source": [
        "## Tổng hợp 2 phương thức trên"
      ],
      "metadata": {
        "id": "T9eAZZCki-Br"
      }
    },
    {
      "cell_type": "code",
      "source": [
        "from pyvi.ViTokenizer import ViTokenizer"
      ],
      "metadata": {
        "id": "XWEpzUJ1c4i8"
      },
      "execution_count": null,
      "outputs": []
    },
    {
      "cell_type": "markdown",
      "source": [
        "Tokenization là quá trình tách một cụm từ, câu, đoạn văn, một hoặc nhiều tài liệu văn bản thành các đơn vị nhỏ hơn. Mỗi đơn vị nhỏ hơn này được gọi là Tokens. Có thể coi tokens là các khối xây dựng của NLP và tất cả các mô hình NLP đều xử lý văn bản thô ở cấp độ các Tokens."
      ],
      "metadata": {
        "id": "2lfYTvn3jeyN"
      }
    },
    {
      "cell_type": "code",
      "source": [
        "def preprocess(text, tokenized = True, lowercased = True):\n",
        "    text = ViTokenizer.tokenize(text) if tokenized else text\n",
        "    text = filter_stop_words(text, stopwords)\n",
        "    text = deEmojify(text)\n",
        "    text = text.lower() if lowercased else text\n",
        "    return text"
      ],
      "metadata": {
        "id": "Dx4IOxuYi9m6"
      },
      "execution_count": null,
      "outputs": []
    },
    {
      "cell_type": "code",
      "source": [
        "x = preprocess(X_train[0])\n",
        "print(X_train[0])\n",
        "print(x)"
      ],
      "metadata": {
        "colab": {
          "base_uri": "https://localhost:8080/"
        },
        "id": "ZF_UmSjYjJaT",
        "outputId": "a082a2ab-d049-4977-df57-b01ba2ddca91"
      },
      "execution_count": null,
      "outputs": [
        {
          "output_type": "stream",
          "name": "stdout",
          "text": [
            "Em được làm fan cứng luôn rồi nè ❤️ reaction quá hay quá cute coi mấy giờ này quá hợp lí =]]]\n",
            "em fan cứng nè ❤ ️ reaction cute coi mấy hợp_lí = ] ] ]\n"
          ]
        }
      ]
    },
    {
      "cell_type": "markdown",
      "source": [
        "## Rút trích đặc trưng"
      ],
      "metadata": {
        "id": "ThM6PRuVjofX"
      }
    },
    {
      "cell_type": "code",
      "source": [
        "def pre_process_features(X, y, tokenized = True, lowercased = True):\n",
        "    X = [preprocess(str(p), tokenized = tokenized, lowercased = lowercased) for p in list(X)]\n",
        "    for idx, ele in enumerate(X):\n",
        "        if not ele:\n",
        "            np.delete(X, idx)\n",
        "            np.delete(y, idx)\n",
        "    return X, y"
      ],
      "metadata": {
        "id": "sQ7C-pNbj0PX"
      },
      "execution_count": null,
      "outputs": []
    },
    {
      "cell_type": "code",
      "source": [
        "x, y = pre_process_features(X_train[:5], y_train[:5])\n",
        "print(X_train[0], y_train[0])\n",
        "print(x[0], y[0])"
      ],
      "metadata": {
        "colab": {
          "base_uri": "https://localhost:8080/"
        },
        "id": "501oUKzEj4QD",
        "outputId": "4dbbc53c-ff5e-4396-bc0f-d7410116a57c"
      },
      "execution_count": null,
      "outputs": [
        {
          "output_type": "stream",
          "name": "stdout",
          "text": [
            "Em được làm fan cứng luôn rồi nè ❤️ reaction quá hay quá cute coi mấy giờ này quá hợp lí =]]] 0\n",
            "em fan cứng nè ❤ ️ reaction cute coi mấy hợp_lí = ] ] ] 0\n"
          ]
        }
      ]
    },
    {
      "cell_type": "markdown",
      "source": [
        "# Huấn luyện và kiểm thử mô hình"
      ],
      "metadata": {
        "id": "_fzaJ-X6lxJh"
      }
    },
    {
      "cell_type": "code",
      "source": [
        "import pandas as pd \n",
        "import numpy as np \n",
        "import re\n",
        "import pickle\n",
        "\n",
        "import seaborn as sn\n",
        "import pandas as pd\n",
        "import matplotlib.pyplot as plt\n",
        "\n",
        "from tensorflow.keras.layers import Input, Dense, Embedding, Conv2D, MaxPool2D\n",
        "from tensorflow.keras.layers import Reshape, Flatten, Dropout, Concatenate\n",
        "from tensorflow.keras.callbacks import ModelCheckpoint\n",
        "from tensorflow.keras.optimizers import Adam\n",
        "from tensorflow.keras.models import Model\n",
        "from tensorflow.keras.utils import to_categorical\n",
        "from tensorflow.keras.preprocessing import text, sequence\n",
        "\n",
        "from sklearn.metrics import f1_score, confusion_matrix, accuracy_score\n",
        "from sklearn.model_selection import train_test_split, StratifiedShuffleSplit\n"
      ],
      "metadata": {
        "id": "dYRyNDwgmVFY"
      },
      "execution_count": null,
      "outputs": []
    },
    {
      "cell_type": "code",
      "source": [
        "train_X, train_y = pre_process_features(X_train, y_train, tokenized=True, lowercased = True)\n",
        "dev_X, dev_y = pre_process_features(X_dev, y_dev, tokenized=True, lowercased = True)\n",
        "test_X, test_y = pre_process_features(X_test, y_test, tokenized=True, lowercased = True)"
      ],
      "metadata": {
        "id": "F9-CC9RQrzHQ"
      },
      "execution_count": null,
      "outputs": []
    },
    {
      "cell_type": "code",
      "source": [
        "def make_features(X, y, tokenizer, is_one_hot_label=True):\n",
        "    X = tokenizer.texts_to_sequences(X)\n",
        "    X = sequence.pad_sequences(X, maxlen=sequence_length)\n",
        "    if is_one_hot_label: \n",
        "        y = to_categorical(y, num_classes=3)\n",
        "\n",
        "    return X, y"
      ],
      "metadata": {
        "id": "vm3wOTSTthgI"
      },
      "execution_count": null,
      "outputs": []
    },
    {
      "cell_type": "code",
      "source": [
        "EMBEDDING_FILE = '/content/drive/MyDrive/Hate Speech Detection/cc.vi.300.vec'\n",
        "\n",
        "# --------------LOAD WORD EMBEDDING -------------------------\n",
        "embeddings_index = {}\n",
        "with open(EMBEDDING_FILE, encoding='utf8') as f:\n",
        "    for line in f:\n",
        "        values = line.rstrip().rsplit(' ')\n",
        "        word = values[0]\n",
        "        coefs = np.asarray(values[1:], dtype='float32')\n",
        "        embeddings_index[word] = coefs"
      ],
      "metadata": {
        "id": "XRI9TSZNx1x7"
      },
      "execution_count": null,
      "outputs": []
    },
    {
      "cell_type": "code",
      "source": [
        "vocabulary_size = 10000\n",
        "sequence_length = 100\n",
        "embedding_dim = 300\n",
        "\n",
        "tokenizer = text.Tokenizer(lower=False, filters='!\"#$%&()*+,-./:;<=>?@[\\\\]^`{|}~\\t\\n')\n",
        "tokenizer.fit_on_texts(train_X)\n",
        "with open('/content/drive/MyDrive/Hate Speech Detection/tokenizer.pickle', 'wb') as handle:\n",
        "    pickle.dump(tokenizer, handle, protocol=pickle.HIGHEST_PROTOCOL)\n",
        "\n",
        "word_index = tokenizer.word_index\n",
        "# num_words = min(vocabulary_size, len(word_index) + 1)\n",
        "num_words = len(word_index) + 1\n",
        "embedding_matrix = np.zeros((num_words, embedding_dim))\n",
        "\n",
        "for word, i in word_index.items():\n",
        "    if i >= vocabulary_size:\n",
        "        continue\n",
        "\n",
        "    embedding_vector = embeddings_index.get(word)\n",
        "    if embedding_vector is not None:\n",
        "        embedding_matrix[i] = embedding_vector\n",
        "\n",
        "# Make features\n",
        "train_X, train_y = make_features(train_X, train_y, tokenizer)\n",
        "dev_X, dev_y = make_features(dev_X, dev_y, tokenizer)\n",
        "test_X, test_y = make_features(test_X, test_y, tokenizer, is_one_hot_label=False)"
      ],
      "metadata": {
        "id": "XtGEwbUEtslW"
      },
      "execution_count": null,
      "outputs": []
    },
    {
      "cell_type": "markdown",
      "source": [
        "## Text CNN"
      ],
      "metadata": {
        "id": "ENVrsqCVmWKg"
      }
    },
    {
      "cell_type": "code",
      "source": [
        "MODEL_FILE = '/content/drive/MyDrive/Hate Speech Detection/model/Text_CNN_model_v13.h5'\n",
        "\n",
        "vocabulary_size = 10000\n",
        "sequence_length = 100\n",
        "\n",
        "embedding_dim = 300\n",
        "batch_size = 256\n",
        "epochs = 40\n",
        "drop = 0.5\n",
        "\n",
        "filter_sizes = [2,3,5]\n",
        "num_filters = 32\n",
        "\n",
        "\n",
        "inputs = Input(shape=(sequence_length,), dtype='int32')\n",
        "embedding = Embedding(input_dim=num_words, output_dim=embedding_dim, input_length=sequence_length, weights=[embedding_matrix])(inputs)\n",
        "reshape = Reshape((sequence_length,embedding_dim,1))(embedding)\n",
        "\n",
        "conv_0 = Conv2D(num_filters, kernel_size=(filter_sizes[0], embedding_dim), padding='valid', kernel_initializer='normal', activation='elu')(reshape)\n",
        "conv_1 = Conv2D(num_filters, kernel_size=(filter_sizes[1], embedding_dim), padding='valid', kernel_initializer='normal', activation='elu')(reshape)\n",
        "conv_2 = Conv2D(num_filters, kernel_size=(filter_sizes[2], embedding_dim), padding='valid', kernel_initializer='normal', activation='elu')(reshape)\n",
        "\n",
        "maxpool_0 = MaxPool2D(pool_size=(sequence_length - filter_sizes[0] + 1, 1), strides=(1,1), padding='valid')(conv_0)\n",
        "maxpool_1 = MaxPool2D(pool_size=(sequence_length - filter_sizes[1] + 1, 1), strides=(1,1), padding='valid')(conv_1)\n",
        "maxpool_2 = MaxPool2D(pool_size=(sequence_length - filter_sizes[2] + 1, 1), strides=(1,1), padding='valid')(conv_2)\n",
        "\n",
        "concatenated_tensor = Concatenate(axis=1)([maxpool_0, maxpool_1, maxpool_2])\n",
        "flatten = Flatten()(concatenated_tensor)\n",
        "dropout = Dropout(drop)(flatten)\n",
        "output = Dense(units=3, activation='softmax')(dropout)\n",
        "\n",
        "# this creates a model that includes\n",
        "model = Model(inputs=inputs, outputs=output)\n",
        "\n",
        "model.summary()\n",
        "\n",
        "checkpoint = ModelCheckpoint('weights.{epoch:03d}-{val_acc:.4f}.hdf5', monitor='val_acc', verbose=1, save_best_only=True, mode='auto')\n",
        "adam = Adam(lr=1e-4, beta_1=0.9, beta_2=0.999, epsilon=1e-08, decay=0.0)\n",
        "\n",
        "model.compile(optimizer=adam, loss='categorical_crossentropy', metrics=['accuracy'])\n",
        "\n",
        "model.fit(train_X, train_y, batch_size=batch_size, epochs=epochs, verbose=1, \n",
        "          validation_data=(dev_X, dev_y))  \n",
        "model.save(MODEL_FILE)"
      ],
      "metadata": {
        "colab": {
          "base_uri": "https://localhost:8080/",
          "height": 1000
        },
        "id": "Jr1iFSN-rCSt",
        "outputId": "abc129ef-3e3e-4d17-c727-16eb4dbd16fd"
      },
      "execution_count": null,
      "outputs": [
        {
          "output_type": "stream",
          "name": "stdout",
          "text": [
            "Model: \"model\"\n",
            "__________________________________________________________________________________________________\n",
            "Layer (type)                    Output Shape         Param #     Connected to                     \n",
            "==================================================================================================\n",
            "input_1 (InputLayer)            [(None, 100)]        0                                            \n",
            "__________________________________________________________________________________________________\n",
            "embedding (Embedding)           (None, 100, 300)     5897100     input_1[0][0]                    \n",
            "__________________________________________________________________________________________________\n",
            "reshape (Reshape)               (None, 100, 300, 1)  0           embedding[0][0]                  \n",
            "__________________________________________________________________________________________________\n",
            "conv2d (Conv2D)                 (None, 99, 1, 32)    19232       reshape[0][0]                    \n",
            "__________________________________________________________________________________________________\n",
            "conv2d_1 (Conv2D)               (None, 98, 1, 32)    28832       reshape[0][0]                    \n",
            "__________________________________________________________________________________________________\n",
            "conv2d_2 (Conv2D)               (None, 96, 1, 32)    48032       reshape[0][0]                    \n",
            "__________________________________________________________________________________________________\n",
            "max_pooling2d (MaxPooling2D)    (None, 1, 1, 32)     0           conv2d[0][0]                     \n",
            "__________________________________________________________________________________________________\n",
            "max_pooling2d_1 (MaxPooling2D)  (None, 1, 1, 32)     0           conv2d_1[0][0]                   \n",
            "__________________________________________________________________________________________________\n",
            "max_pooling2d_2 (MaxPooling2D)  (None, 1, 1, 32)     0           conv2d_2[0][0]                   \n",
            "__________________________________________________________________________________________________\n",
            "concatenate (Concatenate)       (None, 3, 1, 32)     0           max_pooling2d[0][0]              \n",
            "                                                                 max_pooling2d_1[0][0]            \n",
            "                                                                 max_pooling2d_2[0][0]            \n",
            "__________________________________________________________________________________________________\n",
            "flatten (Flatten)               (None, 96)           0           concatenate[0][0]                \n",
            "__________________________________________________________________________________________________\n",
            "dropout (Dropout)               (None, 96)           0           flatten[0][0]                    \n",
            "__________________________________________________________________________________________________\n",
            "dense (Dense)                   (None, 3)            291         dropout[0][0]                    \n",
            "==================================================================================================\n",
            "Total params: 5,993,487\n",
            "Trainable params: 5,993,487\n",
            "Non-trainable params: 0\n",
            "__________________________________________________________________________________________________\n"
          ]
        },
        {
          "output_type": "stream",
          "name": "stderr",
          "text": [
            "/usr/local/lib/python3.10/dist-packages/keras/optimizer_v2/optimizer_v2.py:355: UserWarning: The `lr` argument is deprecated, use `learning_rate` instead.\n",
            "  warnings.warn(\n"
          ]
        },
        {
          "output_type": "stream",
          "name": "stdout",
          "text": [
            "Epoch 1/40\n",
            "94/94 [==============================] - 16s 52ms/step - loss: 0.9019 - accuracy: 0.6870 - val_loss: 0.6989 - val_accuracy: 0.8196\n",
            "Epoch 2/40\n",
            "94/94 [==============================] - 2s 19ms/step - loss: 0.6287 - accuracy: 0.8271 - val_loss: 0.5794 - val_accuracy: 0.8196\n",
            "Epoch 3/40\n",
            "94/94 [==============================] - 2s 19ms/step - loss: 0.5339 - accuracy: 0.8305 - val_loss: 0.5181 - val_accuracy: 0.8237\n",
            "Epoch 4/40\n",
            "94/94 [==============================] - 2s 19ms/step - loss: 0.4819 - accuracy: 0.8382 - val_loss: 0.4843 - val_accuracy: 0.8320\n",
            "Epoch 5/40\n",
            "94/94 [==============================] - 2s 21ms/step - loss: 0.4474 - accuracy: 0.8466 - val_loss: 0.4614 - val_accuracy: 0.8394\n",
            "Epoch 6/40\n",
            "94/94 [==============================] - 2s 20ms/step - loss: 0.4193 - accuracy: 0.8552 - val_loss: 0.4439 - val_accuracy: 0.8409\n",
            "Epoch 7/40\n",
            "94/94 [==============================] - 2s 20ms/step - loss: 0.3960 - accuracy: 0.8613 - val_loss: 0.4290 - val_accuracy: 0.8458\n",
            "Epoch 8/40\n",
            "94/94 [==============================] - 2s 21ms/step - loss: 0.3724 - accuracy: 0.8676 - val_loss: 0.4187 - val_accuracy: 0.8499\n",
            "Epoch 9/40\n",
            "94/94 [==============================] - 2s 19ms/step - loss: 0.3529 - accuracy: 0.8724 - val_loss: 0.4088 - val_accuracy: 0.8537\n",
            "Epoch 10/40\n",
            "94/94 [==============================] - 2s 19ms/step - loss: 0.3345 - accuracy: 0.8776 - val_loss: 0.4013 - val_accuracy: 0.8559\n",
            "Epoch 11/40\n",
            "94/94 [==============================] - 2s 19ms/step - loss: 0.3161 - accuracy: 0.8842 - val_loss: 0.3948 - val_accuracy: 0.8585\n",
            "Epoch 12/40\n",
            "94/94 [==============================] - 2s 19ms/step - loss: 0.3002 - accuracy: 0.8907 - val_loss: 0.3906 - val_accuracy: 0.8582\n",
            "Epoch 13/40\n",
            "94/94 [==============================] - 2s 19ms/step - loss: 0.2858 - accuracy: 0.8958 - val_loss: 0.3878 - val_accuracy: 0.8593\n",
            "Epoch 14/40\n",
            "94/94 [==============================] - 2s 20ms/step - loss: 0.2699 - accuracy: 0.9016 - val_loss: 0.3836 - val_accuracy: 0.8600\n",
            "Epoch 15/40\n",
            "94/94 [==============================] - 2s 20ms/step - loss: 0.2584 - accuracy: 0.9039 - val_loss: 0.3816 - val_accuracy: 0.8604\n",
            "Epoch 16/40\n",
            "94/94 [==============================] - 2s 21ms/step - loss: 0.2450 - accuracy: 0.9098 - val_loss: 0.3800 - val_accuracy: 0.8615\n",
            "Epoch 17/40\n",
            "94/94 [==============================] - 2s 20ms/step - loss: 0.2324 - accuracy: 0.9138 - val_loss: 0.3793 - val_accuracy: 0.8630\n",
            "Epoch 18/40\n",
            "94/94 [==============================] - 2s 19ms/step - loss: 0.2214 - accuracy: 0.9189 - val_loss: 0.3794 - val_accuracy: 0.8634\n",
            "Epoch 19/40\n",
            "94/94 [==============================] - 2s 19ms/step - loss: 0.2097 - accuracy: 0.9226 - val_loss: 0.3804 - val_accuracy: 0.8634\n",
            "Epoch 20/40\n",
            "94/94 [==============================] - 2s 19ms/step - loss: 0.1997 - accuracy: 0.9297 - val_loss: 0.3812 - val_accuracy: 0.8630\n",
            "Epoch 21/40\n",
            "94/94 [==============================] - 2s 19ms/step - loss: 0.1888 - accuracy: 0.9330 - val_loss: 0.3832 - val_accuracy: 0.8649\n",
            "Epoch 22/40\n",
            "94/94 [==============================] - 2s 19ms/step - loss: 0.1814 - accuracy: 0.9352 - val_loss: 0.3845 - val_accuracy: 0.8656\n",
            "Epoch 23/40\n",
            "94/94 [==============================] - 2s 19ms/step - loss: 0.1717 - accuracy: 0.9402 - val_loss: 0.3872 - val_accuracy: 0.8656\n",
            "Epoch 24/40\n",
            "94/94 [==============================] - 2s 21ms/step - loss: 0.1635 - accuracy: 0.9425 - val_loss: 0.3888 - val_accuracy: 0.8671\n",
            "Epoch 25/40\n",
            "94/94 [==============================] - 2s 21ms/step - loss: 0.1564 - accuracy: 0.9475 - val_loss: 0.3917 - val_accuracy: 0.8668\n",
            "Epoch 26/40\n",
            "94/94 [==============================] - 2s 20ms/step - loss: 0.1485 - accuracy: 0.9502 - val_loss: 0.3965 - val_accuracy: 0.8664\n",
            "Epoch 27/40\n",
            "94/94 [==============================] - 2s 20ms/step - loss: 0.1419 - accuracy: 0.9521 - val_loss: 0.3968 - val_accuracy: 0.8668\n",
            "Epoch 28/40\n",
            "94/94 [==============================] - 2s 19ms/step - loss: 0.1347 - accuracy: 0.9558 - val_loss: 0.4042 - val_accuracy: 0.8668\n",
            "Epoch 29/40\n",
            "94/94 [==============================] - 2s 19ms/step - loss: 0.1288 - accuracy: 0.9592 - val_loss: 0.4062 - val_accuracy: 0.8668\n",
            "Epoch 30/40\n",
            "94/94 [==============================] - 2s 19ms/step - loss: 0.1226 - accuracy: 0.9615 - val_loss: 0.4099 - val_accuracy: 0.8664\n",
            "Epoch 31/40\n",
            "94/94 [==============================] - 2s 20ms/step - loss: 0.1177 - accuracy: 0.9632 - val_loss: 0.4127 - val_accuracy: 0.8656\n",
            "Epoch 32/40\n",
            "94/94 [==============================] - 2s 21ms/step - loss: 0.1108 - accuracy: 0.9664 - val_loss: 0.4191 - val_accuracy: 0.8660\n",
            "Epoch 33/40\n",
            "94/94 [==============================] - 2s 20ms/step - loss: 0.1068 - accuracy: 0.9670 - val_loss: 0.4245 - val_accuracy: 0.8675\n",
            "Epoch 34/40\n",
            "94/94 [==============================] - 2s 21ms/step - loss: 0.1026 - accuracy: 0.9685 - val_loss: 0.4276 - val_accuracy: 0.8656\n",
            "Epoch 35/40\n",
            "94/94 [==============================] - 2s 20ms/step - loss: 0.0984 - accuracy: 0.9705 - val_loss: 0.4323 - val_accuracy: 0.8660\n",
            "Epoch 36/40\n",
            "94/94 [==============================] - 2s 20ms/step - loss: 0.0936 - accuracy: 0.9725 - val_loss: 0.4369 - val_accuracy: 0.8653\n",
            "Epoch 37/40\n",
            "94/94 [==============================] - 2s 19ms/step - loss: 0.0891 - accuracy: 0.9731 - val_loss: 0.4422 - val_accuracy: 0.8649\n",
            "Epoch 38/40\n",
            "94/94 [==============================] - 2s 19ms/step - loss: 0.0848 - accuracy: 0.9749 - val_loss: 0.4508 - val_accuracy: 0.8660\n",
            "Epoch 39/40\n",
            "94/94 [==============================] - 2s 19ms/step - loss: 0.0813 - accuracy: 0.9752 - val_loss: 0.4528 - val_accuracy: 0.8634\n",
            "Epoch 40/40\n",
            "94/94 [==============================] - 2s 19ms/step - loss: 0.0790 - accuracy: 0.9771 - val_loss: 0.4612 - val_accuracy: 0.8638\n",
            "[[5323   78  147]\n",
            " [ 231  122   91]\n",
            " [ 315   41  332]]\n",
            "F1 - micro: 0.8648203592814371\n",
            "F1 - macro: 0.605498481379247\n",
            "Accuracy: 0.8648203592814371\n"
          ]
        },
        {
          "output_type": "execute_result",
          "data": {
            "text/plain": [
              "<Axes: >"
            ]
          },
          "metadata": {},
          "execution_count": 31
        },
        {
          "output_type": "display_data",
          "data": {
            "text/plain": [
              "<Figure size 640x480 with 2 Axes>"
            ],
            "image/png": "[encoded data removed]"
          },
          "metadata": {}
        }
      ]
    },
    {
      "cell_type": "code",
      "source": [
        "from keras import models\n",
        "model = models.load_model('/content/drive/MyDrive/Hate Speech Detection/model/Text_CNN_model_v13.h5')\n",
        "prediction = model.predict(test_X, batch_size=batch_size, verbose=0)\n",
        "y_pred = prediction.argmax(axis=-1)\n",
        "\n",
        "cf1 = confusion_matrix(test_y, y_pred)\n",
        "print(cf1)\n",
        "\n",
        "evaluation = f1_score(test_y, y_pred, average='micro')\n",
        "\n",
        "print(\"F1 - micro: \" + str(evaluation))\n",
        "\n",
        "evaluation = f1_score(test_y, y_pred, average='macro')\n",
        "print(\"F1 - macro: \" + str(evaluation))\n",
        "\n",
        "evaluation = accuracy_score(test_y, y_pred)\n",
        "print(\"Accuracy: \" + str(evaluation))\n",
        "\n",
        "df_cm1 = pd.DataFrame(cf1, index = [\"clean\",\"offensive\",\"hate\"],\n",
        "                  columns = [\"clean\",\"offensive\",\"hate\"])\n",
        "plt.clf()\n",
        "sn.heatmap(df_cm1, annot=True, cmap=\"Greys\",fmt='g', cbar=True, annot_kws={\"size\": 30})"
      ],
      "metadata": {
        "colab": {
          "base_uri": "https://localhost:8080/",
          "height": 551
        },
        "id": "mVBfJQ-xBucV",
        "outputId": "85cc1552-5d24-4965-d7f4-c10ab3fd9a6a"
      },
      "execution_count": null,
      "outputs": [
        {
          "output_type": "stream",
          "name": "stdout",
          "text": [
            "[[5323   78  147]\n",
            " [ 231  122   91]\n",
            " [ 315   41  332]]\n",
            "F1 - micro: 0.8648203592814371\n",
            "F1 - macro: 0.605498481379247\n",
            "Accuracy: 0.8648203592814371\n"
          ]
        },
        {
          "output_type": "execute_result",
          "data": {
            "text/plain": [
              "<Axes: >"
            ]
          },
          "metadata": {},
          "execution_count": 172
        },
        {
          "output_type": "display_data",
          "data": {
            "text/plain": [
              "<Figure size 640x480 with 2 Axes>"
            ],
            "image/png": "[encoded data removed]"
          },
          "metadata": {}
        }
      ]
    },
    {
      "cell_type": "markdown",
      "source": [
        "## Text CNN (fine-tune)"
      ],
      "metadata": {
        "id": "zeu2pM2A0PFn"
      }
    },
    {
      "cell_type": "code",
      "source": [
        "from keras import backend as K\n",
        "K.clear_session()"
      ],
      "metadata": {
        "id": "m9OUdhBlELpj"
      },
      "execution_count": null,
      "outputs": []
    },
    {
      "cell_type": "code",
      "source": [
        "MODEL_FILE = '/content/drive/MyDrive/Hate Speech Detection/model/Text_CNN_model_v13_fine_tune.h5'\n",
        "\n",
        "vocabulary_size = 10000\n",
        "sequence_length = 100\n",
        "\n",
        "embedding_dim = 300\n",
        "batch_size = 256\n",
        "epochs = 40\n",
        "drop = [0.25, 0.25, 0.5]\n",
        "\n",
        "filter_sizes = [2,3,5]\n",
        "num_filters = [32, 64, 128]\n",
        "\n",
        "inputs = Input(shape=(sequence_length,), dtype='int32')\n",
        "embedding = Embedding(input_dim=num_words, output_dim=embedding_dim, input_length=sequence_length, weights=[embedding_matrix])(inputs)\n",
        "reshape = Reshape((sequence_length,embedding_dim,1))(embedding)\n",
        "\n",
        "conv_0 = Conv2D(num_filters[0], kernel_size=(filter_sizes[0], embedding_dim), padding='valid', kernel_initializer='normal', activation='elu')(reshape)\n",
        "maxpool_0 = MaxPool2D(pool_size=(sequence_length - filter_sizes[0] + 1, 1), strides=(1,1), padding='valid')(conv_0)\n",
        "# dropout_0 = Dropout(drop[1])(maxpool_0)\n",
        "\n",
        "conv_1 = Conv2D(num_filters[1], kernel_size=(filter_sizes[1], embedding_dim), padding='valid', kernel_initializer='normal', activation='elu')(reshape)\n",
        "conv_1 = Conv2D(num_filters[0], kernel_size=(25, 1), padding='valid', kernel_initializer='normal', activation='elu')(conv_1)\n",
        "maxpool_1 = MaxPool2D(pool_size=(sequence_length - filter_sizes[1] - 25 + 1, 1), strides=(1,1), padding='valid')(conv_1)\n",
        "# dropout_1 = Dropout(drop[1])(maxpool_1)\n",
        "\n",
        "\n",
        "conv_2 = Conv2D(num_filters[2], kernel_size=(filter_sizes[2], embedding_dim), padding='valid', kernel_initializer='normal', activation='elu')(reshape)\n",
        "conv_2 = Conv2D(num_filters[0], kernel_size=(50, 1), padding='valid', kernel_initializer='normal', activation='elu')(conv_2)\n",
        "# conv_2 = Conv2D(num_filters[0], kernel_size=(1, 1), padding='valid', kernel_initializer='normal', activation='elu')(conv_2)\n",
        "maxpool_2 = MaxPool2D(pool_size=(sequence_length - filter_sizes[2] - 50 + 1, 1), strides=(1,1), padding='valid')(conv_2)\n",
        "# dropout_2 = Dropout(drop[1])(maxpool_2)\n",
        "\n",
        "\n",
        "# concatenated_tensor = Concatenate(axis=1)([dropout_0, dropout_1, dropout_2])\n",
        "concatenated_tensor = Concatenate(axis=1)([maxpool_0, maxpool_1, maxpool_2])\n",
        "flatten = Flatten()(concatenated_tensor)\n",
        "# fc = Dense(units=1024, activation='softmax')(flatten)\n",
        "dropout = Dropout(drop[2])(flatten)\n",
        "output = Dense(units=3, activation='softmax')(dropout)\n",
        "\n",
        "# this creates a model that includes\n",
        "ft_model = Model(inputs=inputs, outputs=output)\n",
        "\n",
        "ft_model.summary()"
      ],
      "metadata": {
        "colab": {
          "base_uri": "https://localhost:8080/"
        },
        "id": "frwkju1Q0SYn",
        "outputId": "6fec2766-c07f-4ff0-98a5-b278b4967bb6"
      },
      "execution_count": null,
      "outputs": [
        {
          "output_type": "stream",
          "name": "stdout",
          "text": [
            "Model: \"model_4\"\n",
            "__________________________________________________________________________________________________\n",
            "Layer (type)                    Output Shape         Param #     Connected to                     \n",
            "==================================================================================================\n",
            "input_6 (InputLayer)            [(None, 100)]        0                                            \n",
            "__________________________________________________________________________________________________\n",
            "embedding_5 (Embedding)         (None, 100, 300)     5897100     input_6[0][0]                    \n",
            "__________________________________________________________________________________________________\n",
            "reshape_5 (Reshape)             (None, 100, 300, 1)  0           embedding_5[0][0]                \n",
            "__________________________________________________________________________________________________\n",
            "conv2d_22 (Conv2D)              (None, 98, 1, 64)    57664       reshape_5[0][0]                  \n",
            "__________________________________________________________________________________________________\n",
            "conv2d_24 (Conv2D)              (None, 96, 1, 128)   192128      reshape_5[0][0]                  \n",
            "__________________________________________________________________________________________________\n",
            "conv2d_21 (Conv2D)              (None, 99, 1, 32)    19232       reshape_5[0][0]                  \n",
            "__________________________________________________________________________________________________\n",
            "conv2d_23 (Conv2D)              (None, 74, 1, 32)    51232       conv2d_22[0][0]                  \n",
            "__________________________________________________________________________________________________\n",
            "conv2d_25 (Conv2D)              (None, 47, 1, 32)    204832      conv2d_24[0][0]                  \n",
            "__________________________________________________________________________________________________\n",
            "max_pooling2d_15 (MaxPooling2D) (None, 1, 1, 32)     0           conv2d_21[0][0]                  \n",
            "__________________________________________________________________________________________________\n",
            "max_pooling2d_16 (MaxPooling2D) (None, 2, 1, 32)     0           conv2d_23[0][0]                  \n",
            "__________________________________________________________________________________________________\n",
            "max_pooling2d_17 (MaxPooling2D) (None, 2, 1, 32)     0           conv2d_25[0][0]                  \n",
            "__________________________________________________________________________________________________\n",
            "concatenate_5 (Concatenate)     (None, 5, 1, 32)     0           max_pooling2d_15[0][0]           \n",
            "                                                                 max_pooling2d_16[0][0]           \n",
            "                                                                 max_pooling2d_17[0][0]           \n",
            "__________________________________________________________________________________________________\n",
            "flatten_4 (Flatten)             (None, 160)          0           concatenate_5[0][0]              \n",
            "__________________________________________________________________________________________________\n",
            "dropout_4 (Dropout)             (None, 160)          0           flatten_4[0][0]                  \n",
            "__________________________________________________________________________________________________\n",
            "dense_6 (Dense)                 (None, 3)            483         dropout_4[0][0]                  \n",
            "==================================================================================================\n",
            "Total params: 6,422,671\n",
            "Trainable params: 6,422,671\n",
            "Non-trainable params: 0\n",
            "__________________________________________________________________________________________________\n"
          ]
        }
      ]
    },
    {
      "cell_type": "code",
      "source": [
        "checkpoint = ModelCheckpoint('weights.{epoch:03d}-{val_acc:.4f}.hdf5', monitor='val_acc', verbose=1, save_best_only=True, mode='auto')\n",
        "adam = Adam(lr=1e-4, beta_1=0.9, beta_2=0.999, epsilon=1e-08, decay=0.0)\n",
        "\n",
        "ft_model.compile(optimizer=adam, loss='categorical_crossentropy', metrics=['accuracy'])\n",
        "\n",
        "ft_model.fit(train_X, train_y, batch_size=batch_size, epochs=epochs, verbose=1, \n",
        "          validation_data=(dev_X, dev_y))  \n",
        "ft_model.save(MODEL_FILE)"
      ],
      "metadata": {
        "colab": {
          "base_uri": "https://localhost:8080/"
        },
        "id": "QmbgiPUk36Ut",
        "outputId": "26ba01e6-c569-4117-f052-d28d29d121b3"
      },
      "execution_count": null,
      "outputs": [
        {
          "output_type": "stream",
          "name": "stdout",
          "text": [
            "Epoch 1/40\n",
            "94/94 [==============================] - 39s 43ms/step - loss: 0.6681 - accuracy: 0.7987 - val_loss: 0.5656 - val_accuracy: 0.8215\n",
            "Epoch 2/40\n",
            "94/94 [==============================] - 4s 39ms/step - loss: 0.5377 - accuracy: 0.8308 - val_loss: 0.5306 - val_accuracy: 0.8290\n",
            "Epoch 3/40\n",
            "94/94 [==============================] - 4s 41ms/step - loss: 0.4939 - accuracy: 0.8407 - val_loss: 0.5018 - val_accuracy: 0.8320\n",
            "Epoch 4/40\n",
            "94/94 [==============================] - 4s 39ms/step - loss: 0.4542 - accuracy: 0.8488 - val_loss: 0.4766 - val_accuracy: 0.8335\n",
            "Epoch 5/40\n",
            "94/94 [==============================] - 4s 38ms/step - loss: 0.4206 - accuracy: 0.8574 - val_loss: 0.4597 - val_accuracy: 0.8398\n",
            "Epoch 6/40\n",
            "94/94 [==============================] - 4s 38ms/step - loss: 0.3905 - accuracy: 0.8647 - val_loss: 0.4414 - val_accuracy: 0.8421\n",
            "Epoch 7/40\n",
            "94/94 [==============================] - 4s 39ms/step - loss: 0.3631 - accuracy: 0.8740 - val_loss: 0.4319 - val_accuracy: 0.8481\n",
            "Epoch 8/40\n",
            "94/94 [==============================] - 4s 40ms/step - loss: 0.3358 - accuracy: 0.8826 - val_loss: 0.4215 - val_accuracy: 0.8548\n",
            "Epoch 9/40\n",
            "94/94 [==============================] - 4s 39ms/step - loss: 0.3106 - accuracy: 0.8905 - val_loss: 0.4171 - val_accuracy: 0.8567\n",
            "Epoch 10/40\n",
            "94/94 [==============================] - 4s 39ms/step - loss: 0.2913 - accuracy: 0.8958 - val_loss: 0.4148 - val_accuracy: 0.8589\n",
            "Epoch 11/40\n",
            "94/94 [==============================] - 4s 39ms/step - loss: 0.2686 - accuracy: 0.9044 - val_loss: 0.4122 - val_accuracy: 0.8585\n",
            "Epoch 12/40\n",
            "94/94 [==============================] - 4s 42ms/step - loss: 0.2463 - accuracy: 0.9121 - val_loss: 0.4140 - val_accuracy: 0.8600\n",
            "Epoch 13/40\n",
            "94/94 [==============================] - 4s 40ms/step - loss: 0.2279 - accuracy: 0.9185 - val_loss: 0.4168 - val_accuracy: 0.8589\n",
            "Epoch 14/40\n",
            "94/94 [==============================] - 4s 39ms/step - loss: 0.2111 - accuracy: 0.9262 - val_loss: 0.4224 - val_accuracy: 0.8585\n",
            "Epoch 15/40\n",
            "94/94 [==============================] - 4s 39ms/step - loss: 0.1952 - accuracy: 0.9317 - val_loss: 0.4368 - val_accuracy: 0.8593\n",
            "Epoch 16/40\n",
            "94/94 [==============================] - 4s 39ms/step - loss: 0.1802 - accuracy: 0.9371 - val_loss: 0.4411 - val_accuracy: 0.8623\n",
            "Epoch 17/40\n",
            "94/94 [==============================] - 4s 40ms/step - loss: 0.1673 - accuracy: 0.9400 - val_loss: 0.4485 - val_accuracy: 0.8612\n",
            "Epoch 18/40\n",
            "94/94 [==============================] - 4s 40ms/step - loss: 0.1549 - accuracy: 0.9458 - val_loss: 0.4563 - val_accuracy: 0.8585\n",
            "Epoch 19/40\n",
            "94/94 [==============================] - 4s 39ms/step - loss: 0.1440 - accuracy: 0.9517 - val_loss: 0.4697 - val_accuracy: 0.8604\n",
            "Epoch 20/40\n",
            "94/94 [==============================] - 4s 39ms/step - loss: 0.1328 - accuracy: 0.9555 - val_loss: 0.4774 - val_accuracy: 0.8589\n",
            "Epoch 21/40\n",
            "94/94 [==============================] - 4s 40ms/step - loss: 0.1243 - accuracy: 0.9588 - val_loss: 0.4975 - val_accuracy: 0.8623\n",
            "Epoch 22/40\n",
            "94/94 [==============================] - 4s 40ms/step - loss: 0.1145 - accuracy: 0.9621 - val_loss: 0.5141 - val_accuracy: 0.8630\n",
            "Epoch 23/40\n",
            "94/94 [==============================] - 4s 40ms/step - loss: 0.1075 - accuracy: 0.9646 - val_loss: 0.5188 - val_accuracy: 0.8630\n",
            "Epoch 24/40\n",
            "94/94 [==============================] - 4s 40ms/step - loss: 0.1011 - accuracy: 0.9672 - val_loss: 0.5396 - val_accuracy: 0.8641\n",
            "Epoch 25/40\n",
            "94/94 [==============================] - 4s 39ms/step - loss: 0.0939 - accuracy: 0.9696 - val_loss: 0.5429 - val_accuracy: 0.8608\n",
            "Epoch 26/40\n",
            "94/94 [==============================] - 4s 43ms/step - loss: 0.0889 - accuracy: 0.9713 - val_loss: 0.5585 - val_accuracy: 0.8638\n",
            "Epoch 27/40\n",
            "94/94 [==============================] - 4s 41ms/step - loss: 0.0824 - accuracy: 0.9737 - val_loss: 0.5728 - val_accuracy: 0.8619\n",
            "Epoch 28/40\n",
            "94/94 [==============================] - 4s 40ms/step - loss: 0.0781 - accuracy: 0.9741 - val_loss: 0.5878 - val_accuracy: 0.8626\n",
            "Epoch 29/40\n",
            "94/94 [==============================] - 4s 40ms/step - loss: 0.0743 - accuracy: 0.9763 - val_loss: 0.6054 - val_accuracy: 0.8604\n",
            "Epoch 30/40\n",
            "94/94 [==============================] - 4s 41ms/step - loss: 0.0701 - accuracy: 0.9764 - val_loss: 0.6158 - val_accuracy: 0.8623\n",
            "Epoch 31/40\n",
            "94/94 [==============================] - 4s 42ms/step - loss: 0.0657 - accuracy: 0.9782 - val_loss: 0.6246 - val_accuracy: 0.8567\n",
            "Epoch 32/40\n",
            "94/94 [==============================] - 4s 41ms/step - loss: 0.0631 - accuracy: 0.9793 - val_loss: 0.6506 - val_accuracy: 0.8604\n",
            "Epoch 33/40\n",
            "94/94 [==============================] - 4s 42ms/step - loss: 0.0608 - accuracy: 0.9797 - val_loss: 0.6486 - val_accuracy: 0.8604\n",
            "Epoch 34/40\n",
            "94/94 [==============================] - 4s 40ms/step - loss: 0.0573 - accuracy: 0.9807 - val_loss: 0.6701 - val_accuracy: 0.8600\n",
            "Epoch 35/40\n",
            "94/94 [==============================] - 4s 43ms/step - loss: 0.0543 - accuracy: 0.9818 - val_loss: 0.6749 - val_accuracy: 0.8555\n",
            "Epoch 36/40\n",
            "94/94 [==============================] - 4s 41ms/step - loss: 0.0530 - accuracy: 0.9812 - val_loss: 0.6928 - val_accuracy: 0.8585\n",
            "Epoch 37/40\n",
            "94/94 [==============================] - 4s 40ms/step - loss: 0.0510 - accuracy: 0.9834 - val_loss: 0.6922 - val_accuracy: 0.8570\n",
            "Epoch 38/40\n",
            "94/94 [==============================] - 4s 42ms/step - loss: 0.0498 - accuracy: 0.9825 - val_loss: 0.7278 - val_accuracy: 0.8585\n",
            "Epoch 39/40\n",
            "94/94 [==============================] - 4s 40ms/step - loss: 0.0465 - accuracy: 0.9837 - val_loss: 0.7291 - val_accuracy: 0.8578\n",
            "Epoch 40/40\n",
            "94/94 [==============================] - 4s 42ms/step - loss: 0.0453 - accuracy: 0.9839 - val_loss: 0.7403 - val_accuracy: 0.8567\n"
          ]
        }
      ]
    },
    {
      "cell_type": "code",
      "source": [
        "# from keras import models\n",
        "# ft_model = models.load_model('/content/drive/MyDrive/Hate Speech Detection/model/Text_CNN_model_v13_fine_tune.h5')\n",
        "prediction = ft_model.predict(test_X, batch_size=batch_size, verbose=0)\n",
        "y_pred = prediction.argmax(axis=-1)\n",
        "\n",
        "cf1 = confusion_matrix(test_y, y_pred)\n",
        "print(cf1)\n",
        "\n",
        "evaluation = f1_score(test_y, y_pred, average='micro')\n",
        "\n",
        "print(\"F1 - micro: \" + str(evaluation))\n",
        "\n",
        "evaluation = f1_score(test_y, y_pred, average='macro')\n",
        "print(\"F1 - macro: \" + str(evaluation))\n",
        "\n",
        "evaluation = accuracy_score(test_y, y_pred)\n",
        "print(\"Accuracy: \" + str(evaluation))\n",
        "\n",
        "df_cm1 = pd.DataFrame(cf1, index = [\"clean\",\"offensive\",\"hate\"],\n",
        "                  columns = [\"clean\",\"offensive\",\"hate\"])\n",
        "plt.clf()\n",
        "sn.heatmap(df_cm1, annot=True, cmap=\"Greys\",fmt='g', cbar=True, annot_kws={\"size\": 30})"
      ],
      "metadata": {
        "colab": {
          "base_uri": "https://localhost:8080/",
          "height": 551
        },
        "id": "hEXjUqfhLR31",
        "outputId": "5899b421-b104-4814-e5f4-8e4a77fc1cc8"
      },
      "execution_count": null,
      "outputs": [
        {
          "output_type": "stream",
          "name": "stdout",
          "text": [
            "[[5208  142  198]\n",
            " [ 225  142   77]\n",
            " [ 303   69  316]]\n",
            "F1 - micro: 0.8482035928143714\n",
            "F1 - macro: 0.5911830759465998\n",
            "Accuracy: 0.8482035928143713\n"
          ]
        },
        {
          "output_type": "execute_result",
          "data": {
            "text/plain": [
              "<Axes: >"
            ]
          },
          "metadata": {},
          "execution_count": 171
        },
        {
          "output_type": "display_data",
          "data": {
            "text/plain": [
              "<Figure size 640x480 with 2 Axes>"
            ],
            "image/png": "[encoded data removed]"
          },
          "metadata": {}
        }
      ]
    },
    {
      "cell_type": "markdown",
      "source": [
        "## DNN"
      ],
      "metadata": {
        "id": "Hf_MDUzjrWde"
      }
    },
    {
      "cell_type": "code",
      "source": [
        "MODEL_FILE = '/content/drive/MyDrive/Hate Speech Detection/model/Text_DNN_model.h5'\n",
        "\n",
        "vocabulary_size = 10000\n",
        "sequence_length = 100\n",
        "\n",
        "embedding_dim = 300\n",
        "batch_size = 256\n",
        "epochs = 40\n",
        "drop = 0.5\n",
        "\n",
        "filter_sizes = [2,3,5]\n",
        "num_filters = 32\n",
        "\n",
        "\n",
        "inputs = Input(shape=(sequence_length,), dtype='int32')\n",
        "embedding = Embedding(input_dim=num_words, output_dim=embedding_dim, input_length=sequence_length, weights=[embedding_matrix])(inputs)\n",
        "reshape = Reshape((sequence_length,1))(inputs)\n",
        "\n",
        "dense_0 = Dense(1024, activation='elu')(reshape)\n",
        "dense_0_1 = Dense(512, activation='elu')(dense_0)\n",
        "dense_0_2 = Dense(256, activation='elu')(dense_0_1)\n",
        "\n",
        "dense_1 = Dense(512, activation='elu')(reshape)\n",
        "dense_1_0 = Dense(256, activation='elu')(dense_1)\n",
        "\n",
        "dense_2 = Dense(256, activation='elu')(reshape)\n",
        "\n",
        "\n",
        "dense_3 = Dense(32, activation='elu')(dense_0_2)\n",
        "dense_4 = Dense(32, activation='elu')(dense_1_0)\n",
        "dense_5 = Dense(32, activation='elu')(dense_2)\n",
        "\n",
        "concatenated_tensor = Concatenate(axis=1)([dense_3, dense_4, dense_5])\n",
        "flatten = Flatten()(concatenated_tensor)\n",
        "dropout = Dropout(drop)(flatten)\n",
        "output = Dense(units=3, activation='softmax')(dropout)\n",
        "\n",
        "# this creates a model that includes\n",
        "model = Model(inputs=inputs, outputs=output)\n",
        "\n",
        "model.summary()\n"
      ],
      "metadata": {
        "colab": {
          "base_uri": "https://localhost:8080/"
        },
        "id": "HB89ocxXrYvO",
        "outputId": "319ccf86-294d-4d6f-ca28-7213ac5a37d2"
      },
      "execution_count": null,
      "outputs": [
        {
          "output_type": "stream",
          "name": "stdout",
          "text": [
            "Model: \"model\"\n",
            "__________________________________________________________________________________________________\n",
            " Layer (type)                   Output Shape         Param #     Connected to                     \n",
            "==================================================================================================\n",
            " input_5 (InputLayer)           [(None, 100)]        0           []                               \n",
            "                                                                                                  \n",
            " reshape_4 (Reshape)            (None, 100, 1)       0           ['input_5[0][0]']                \n",
            "                                                                                                  \n",
            " dense_10 (Dense)               (None, 100, 1024)    2048        ['reshape_4[0][0]']              \n",
            "                                                                                                  \n",
            " dense_11 (Dense)               (None, 100, 512)     524800      ['dense_10[0][0]']               \n",
            "                                                                                                  \n",
            " dense_13 (Dense)               (None, 100, 512)     1024        ['reshape_4[0][0]']              \n",
            "                                                                                                  \n",
            " dense_12 (Dense)               (None, 100, 256)     131328      ['dense_11[0][0]']               \n",
            "                                                                                                  \n",
            " dense_14 (Dense)               (None, 100, 256)     131328      ['dense_13[0][0]']               \n",
            "                                                                                                  \n",
            " dense_15 (Dense)               (None, 100, 256)     512         ['reshape_4[0][0]']              \n",
            "                                                                                                  \n",
            " dense_16 (Dense)               (None, 100, 32)      8224        ['dense_12[0][0]']               \n",
            "                                                                                                  \n",
            " dense_17 (Dense)               (None, 100, 32)      8224        ['dense_14[0][0]']               \n",
            "                                                                                                  \n",
            " dense_18 (Dense)               (None, 100, 32)      8224        ['dense_15[0][0]']               \n",
            "                                                                                                  \n",
            " concatenate (Concatenate)      (None, 300, 32)      0           ['dense_16[0][0]',               \n",
            "                                                                  'dense_17[0][0]',               \n",
            "                                                                  'dense_18[0][0]']               \n",
            "                                                                                                  \n",
            " flatten (Flatten)              (None, 9600)         0           ['concatenate[0][0]']            \n",
            "                                                                                                  \n",
            " dropout (Dropout)              (None, 9600)         0           ['flatten[0][0]']                \n",
            "                                                                                                  \n",
            " dense_19 (Dense)               (None, 3)            28803       ['dropout[0][0]']                \n",
            "                                                                                                  \n",
            "==================================================================================================\n",
            "Total params: 844,515\n",
            "Trainable params: 844,515\n",
            "Non-trainable params: 0\n",
            "__________________________________________________________________________________________________\n"
          ]
        }
      ]
    },
    {
      "cell_type": "code",
      "source": [
        "import tensorflow as tf\n",
        "checkpoint = ModelCheckpoint('weights.{epoch:03d}-{val_acc:.4f}.hdf5', monitor='val_acc', verbose=1, save_best_only=True, mode='auto')\n",
        "\n",
        "model.compile(optimizer=tf.keras.optimizers.Adam(learning_rate=1e-4, beta_1=0.9, beta_2=0.999, epsilon=1e-08), \n",
        "              loss='categorical_crossentropy', metrics=['accuracy'])\n",
        "\n",
        "model.fit(train_X, train_y, batch_size=batch_size, epochs=epochs, verbose=1, \n",
        "          validation_data=(dev_X, dev_y))  \n",
        "model.save(MODEL_FILE)"
      ],
      "metadata": {
        "colab": {
          "base_uri": "https://localhost:8080/"
        },
        "id": "YID-Dnh7uKy3",
        "outputId": "1e27ffab-9950-4494-9813-97e89737ae7a"
      },
      "execution_count": null,
      "outputs": [
        {
          "output_type": "stream",
          "name": "stdout",
          "text": [
            "Epoch 1/40\n",
            "94/94 [==============================] - 15s 56ms/step - loss: 15.1889 - accuracy: 0.6778 - val_loss: 1.7172 - val_accuracy: 0.8151\n",
            "Epoch 2/40\n",
            "94/94 [==============================] - 4s 48ms/step - loss: 0.8264 - accuracy: 0.8067 - val_loss: 0.5668 - val_accuracy: 0.8174\n",
            "Epoch 3/40\n",
            "94/94 [==============================] - 5s 49ms/step - loss: 0.5576 - accuracy: 0.8253 - val_loss: 0.5635 - val_accuracy: 0.8204\n",
            "Epoch 4/40\n",
            "94/94 [==============================] - 5s 50ms/step - loss: 0.5568 - accuracy: 0.8250 - val_loss: 0.5613 - val_accuracy: 0.8181\n",
            "Epoch 5/40\n",
            "94/94 [==============================] - 5s 48ms/step - loss: 0.5560 - accuracy: 0.8244 - val_loss: 0.5607 - val_accuracy: 0.8196\n",
            "Epoch 6/40\n",
            "94/94 [==============================] - 5s 51ms/step - loss: 0.5546 - accuracy: 0.8242 - val_loss: 0.5621 - val_accuracy: 0.8211\n",
            "Epoch 7/40\n",
            "94/94 [==============================] - 5s 51ms/step - loss: 0.5513 - accuracy: 0.8251 - val_loss: 0.5631 - val_accuracy: 0.8211\n",
            "Epoch 8/40\n",
            "94/94 [==============================] - 5s 49ms/step - loss: 0.5511 - accuracy: 0.8243 - val_loss: 0.5597 - val_accuracy: 0.8192\n",
            "Epoch 9/40\n",
            "94/94 [==============================] - 5s 52ms/step - loss: 0.5520 - accuracy: 0.8248 - val_loss: 0.5628 - val_accuracy: 0.8222\n",
            "Epoch 10/40\n",
            "94/94 [==============================] - 5s 51ms/step - loss: 0.5533 - accuracy: 0.8252 - val_loss: 0.5599 - val_accuracy: 0.8219\n",
            "Epoch 11/40\n",
            "94/94 [==============================] - 5s 49ms/step - loss: 0.5503 - accuracy: 0.8252 - val_loss: 0.5589 - val_accuracy: 0.8207\n",
            "Epoch 12/40\n",
            "94/94 [==============================] - 5s 57ms/step - loss: 0.5478 - accuracy: 0.8269 - val_loss: 0.5599 - val_accuracy: 0.8200\n",
            "Epoch 13/40\n",
            "94/94 [==============================] - 5s 52ms/step - loss: 0.5485 - accuracy: 0.8261 - val_loss: 0.5604 - val_accuracy: 0.8189\n",
            "Epoch 14/40\n",
            "94/94 [==============================] - 5s 50ms/step - loss: 0.5487 - accuracy: 0.8254 - val_loss: 0.5595 - val_accuracy: 0.8166\n",
            "Epoch 15/40\n",
            "94/94 [==============================] - 5s 52ms/step - loss: 0.5493 - accuracy: 0.8255 - val_loss: 0.5619 - val_accuracy: 0.8215\n",
            "Epoch 16/40\n",
            "94/94 [==============================] - 5s 50ms/step - loss: 0.5470 - accuracy: 0.8247 - val_loss: 0.5610 - val_accuracy: 0.8189\n",
            "Epoch 17/40\n",
            "94/94 [==============================] - 5s 51ms/step - loss: 0.5473 - accuracy: 0.8248 - val_loss: 0.5629 - val_accuracy: 0.8181\n",
            "Epoch 18/40\n",
            "94/94 [==============================] - 5s 52ms/step - loss: 0.5463 - accuracy: 0.8262 - val_loss: 0.5598 - val_accuracy: 0.8204\n",
            "Epoch 19/40\n",
            "94/94 [==============================] - 5s 51ms/step - loss: 0.5471 - accuracy: 0.8273 - val_loss: 0.5609 - val_accuracy: 0.8207\n",
            "Epoch 20/40\n",
            "94/94 [==============================] - 5s 49ms/step - loss: 0.5467 - accuracy: 0.8268 - val_loss: 0.5601 - val_accuracy: 0.8185\n",
            "Epoch 21/40\n",
            "94/94 [==============================] - 5s 53ms/step - loss: 0.5440 - accuracy: 0.8281 - val_loss: 0.5611 - val_accuracy: 0.8204\n",
            "Epoch 22/40\n",
            "94/94 [==============================] - 5s 49ms/step - loss: 0.5464 - accuracy: 0.8267 - val_loss: 0.5590 - val_accuracy: 0.8159\n",
            "Epoch 23/40\n",
            "94/94 [==============================] - 5s 49ms/step - loss: 0.5476 - accuracy: 0.8271 - val_loss: 0.5585 - val_accuracy: 0.8189\n",
            "Epoch 24/40\n",
            "94/94 [==============================] - 5s 51ms/step - loss: 0.5431 - accuracy: 0.8278 - val_loss: 0.5615 - val_accuracy: 0.8219\n",
            "Epoch 25/40\n",
            "94/94 [==============================] - 5s 50ms/step - loss: 0.5450 - accuracy: 0.8268 - val_loss: 0.5597 - val_accuracy: 0.8189\n",
            "Epoch 26/40\n",
            "94/94 [==============================] - 5s 51ms/step - loss: 0.5433 - accuracy: 0.8279 - val_loss: 0.5596 - val_accuracy: 0.8215\n",
            "Epoch 27/40\n",
            "94/94 [==============================] - 5s 52ms/step - loss: 0.5466 - accuracy: 0.8275 - val_loss: 0.5599 - val_accuracy: 0.8170\n",
            "Epoch 28/40\n",
            "94/94 [==============================] - 5s 49ms/step - loss: 0.5431 - accuracy: 0.8268 - val_loss: 0.5621 - val_accuracy: 0.8204\n",
            "Epoch 29/40\n",
            "94/94 [==============================] - 5s 52ms/step - loss: 0.5435 - accuracy: 0.8266 - val_loss: 0.5624 - val_accuracy: 0.8174\n",
            "Epoch 30/40\n",
            "94/94 [==============================] - 5s 51ms/step - loss: 0.5437 - accuracy: 0.8264 - val_loss: 0.5628 - val_accuracy: 0.8207\n",
            "Epoch 31/40\n",
            "94/94 [==============================] - 5s 51ms/step - loss: 0.5437 - accuracy: 0.8273 - val_loss: 0.5600 - val_accuracy: 0.8204\n",
            "Epoch 32/40\n",
            "94/94 [==============================] - 5s 51ms/step - loss: 0.5471 - accuracy: 0.8267 - val_loss: 0.5581 - val_accuracy: 0.8207\n",
            "Epoch 33/40\n",
            "94/94 [==============================] - 5s 58ms/step - loss: 0.5422 - accuracy: 0.8281 - val_loss: 0.5604 - val_accuracy: 0.8192\n",
            "Epoch 34/40\n",
            "94/94 [==============================] - 5s 50ms/step - loss: 0.5439 - accuracy: 0.8266 - val_loss: 0.5610 - val_accuracy: 0.8204\n",
            "Epoch 35/40\n",
            "94/94 [==============================] - 5s 51ms/step - loss: 0.5415 - accuracy: 0.8281 - val_loss: 0.5612 - val_accuracy: 0.8192\n",
            "Epoch 36/40\n",
            "94/94 [==============================] - 5s 52ms/step - loss: 0.5414 - accuracy: 0.8281 - val_loss: 0.5597 - val_accuracy: 0.8211\n",
            "Epoch 37/40\n",
            "94/94 [==============================] - 5s 51ms/step - loss: 0.5412 - accuracy: 0.8274 - val_loss: 0.5613 - val_accuracy: 0.8215\n",
            "Epoch 38/40\n",
            "94/94 [==============================] - 5s 52ms/step - loss: 0.5418 - accuracy: 0.8273 - val_loss: 0.5631 - val_accuracy: 0.8211\n",
            "Epoch 39/40\n",
            "94/94 [==============================] - 5s 51ms/step - loss: 0.5412 - accuracy: 0.8273 - val_loss: 0.5585 - val_accuracy: 0.8219\n",
            "Epoch 40/40\n",
            "94/94 [==============================] - 5s 51ms/step - loss: 0.5424 - accuracy: 0.8291 - val_loss: 0.5587 - val_accuracy: 0.8222\n"
          ]
        }
      ]
    },
    {
      "cell_type": "code",
      "source": [
        "from keras import models\n",
        "model = models.load_model('/content/drive/MyDrive/Hate Speech Detection/model/Text_DNN_model.h5')\n",
        "prediction = model.predict(test_X, batch_size=batch_size, verbose=0)\n",
        "y_pred = prediction.argmax(axis=-1)\n",
        "\n",
        "cf1 = confusion_matrix(test_y, y_pred)\n",
        "print(cf1)\n",
        "\n",
        "evaluation = f1_score(test_y, y_pred, average='micro')\n",
        "\n",
        "print(\"F1 - micro: \" + str(evaluation))\n",
        "\n",
        "evaluation = f1_score(test_y, y_pred, average='macro')\n",
        "print(\"F1 - macro: \" + str(evaluation))\n",
        "\n",
        "evaluation = accuracy_score(test_y, y_pred)\n",
        "print(\"Accuracy: \" + str(evaluation))\n",
        "\n",
        "df_cm1 = pd.DataFrame(cf1, index = [\"clean\",\"offensive\",\"hate\"],\n",
        "                  columns = [\"clean\",\"offensive\",\"hate\"])\n",
        "plt.clf()\n",
        "sn.heatmap(df_cm1, annot=True, cmap=\"Greys\",fmt='g', cbar=True, annot_kws={\"size\": 30})"
      ],
      "metadata": {
        "colab": {
          "base_uri": "https://localhost:8080/",
          "height": 551
        },
        "id": "cal4-oA5soa4",
        "outputId": "89d2da3d-88b1-4c29-81d0-23075ff33c32"
      },
      "execution_count": null,
      "outputs": [
        {
          "output_type": "stream",
          "name": "stdout",
          "text": [
            "[[5500    0   48]\n",
            " [ 440    0    4]\n",
            " [ 639    0   49]]\n",
            "F1 - micro: 0.8306886227544911\n",
            "F1 - macro: 0.3437582445383596\n",
            "Accuracy: 0.8306886227544911\n"
          ]
        },
        {
          "output_type": "execute_result",
          "data": {
            "text/plain": [
              "<Axes: >"
            ]
          },
          "metadata": {},
          "execution_count": 28
        },
        {
          "output_type": "display_data",
          "data": {
            "text/plain": [
              "<Figure size 640x480 with 2 Axes>"
            ],
            "image/png": "[encoded data removed]"
          },
          "metadata": {}
        }
      ]
    },
    {
      "cell_type": "markdown",
      "source": [
        "## Polynomial Regression"
      ],
      "metadata": {
        "id": "BfU0AEYNftQg"
      }
    },
    {
      "cell_type": "code",
      "source": [
        "from sklearn.preprocessing import PolynomialFeatures\n",
        "from sklearn.linear_model import LinearRegression\n",
        "import pickle\n",
        "\n",
        "poly = PolynomialFeatures()\n",
        "X_poly = poly.fit_transform(train_X)\n",
        "poly.fit(X_poly, train_y)\n",
        "lin_poly = LinearRegression()\n",
        "lin_poly.fit(X_poly, train_y)"
      ],
      "metadata": {
        "colab": {
          "base_uri": "https://localhost:8080/",
          "height": 74
        },
        "id": "73bXhWdufwvK",
        "outputId": "8d26b483-31ce-4d35-fa76-01e0081bfa42"
      },
      "execution_count": null,
      "outputs": [
        {
          "output_type": "execute_result",
          "data": {
            "text/plain": [
              "LinearRegression()"
            ],
            "text/html": [
              "<style>#sk-container-id-1 {color: black;background-color: white;}#sk-container-id-1 pre{padding: 0;}#sk-container-id-1 div.sk-toggleable {background-color: white;}#sk-container-id-1 label.sk-toggleable__label {cursor: pointer;display: block;width: 100%;margin-bottom: 0;padding: 0.3em;box-sizing: border-box;text-align: center;}#sk-container-id-1 label.sk-toggleable__label-arrow:before {content: \"▸\";float: left;margin-right: 0.25em;color: #696969;}#sk-container-id-1 label.sk-toggleable__label-arrow:hover:before {color: black;}#sk-container-id-1 div.sk-estimator:hover label.sk-toggleable__label-arrow:before {color: black;}#sk-container-id-1 div.sk-toggleable__content {max-height: 0;max-width: 0;overflow: hidden;text-align: left;background-color: #f0f8ff;}#sk-container-id-1 div.sk-toggleable__content pre {margin: 0.2em;color: black;border-radius: 0.25em;background-color: #f0f8ff;}#sk-container-id-1 input.sk-toggleable__control:checked~div.sk-toggleable__content {max-height: 200px;max-width: 100%;overflow: auto;}#sk-container-id-1 input.sk-toggleable__control:checked~label.sk-toggleable__label-arrow:before {content: \"▾\";}#sk-container-id-1 div.sk-estimator input.sk-toggleable__control:checked~label.sk-toggleable__label {background-color: #d4ebff;}#sk-container-id-1 div.sk-label input.sk-toggleable__control:checked~label.sk-toggleable__label {background-color: #d4ebff;}#sk-container-id-1 input.sk-hidden--visually {border: 0;clip: rect(1px 1px 1px 1px);clip: rect(1px, 1px, 1px, 1px);height: 1px;margin: -1px;overflow: hidden;padding: 0;position: absolute;width: 1px;}#sk-container-id-1 div.sk-estimator {font-family: monospace;background-color: #f0f8ff;border: 1px dotted black;border-radius: 0.25em;box-sizing: border-box;margin-bottom: 0.5em;}#sk-container-id-1 div.sk-estimator:hover {background-color: #d4ebff;}#sk-container-id-1 div.sk-parallel-item::after {content: \"\";width: 100%;border-bottom: 1px solid gray;flex-grow: 1;}#sk-container-id-1 div.sk-label:hover label.sk-toggleable__label {background-color: #d4ebff;}#sk-container-id-1 div.sk-serial::before {content: \"\";position: absolute;border-left: 1px solid gray;box-sizing: border-box;top: 0;bottom: 0;left: 50%;z-index: 0;}#sk-container-id-1 div.sk-serial {display: flex;flex-direction: column;align-items: center;background-color: white;padding-right: 0.2em;padding-left: 0.2em;position: relative;}#sk-container-id-1 div.sk-item {position: relative;z-index: 1;}#sk-container-id-1 div.sk-parallel {display: flex;align-items: stretch;justify-content: center;background-color: white;position: relative;}#sk-container-id-1 div.sk-item::before, #sk-container-id-1 div.sk-parallel-item::before {content: \"\";position: absolute;border-left: 1px solid gray;box-sizing: border-box;top: 0;bottom: 0;left: 50%;z-index: -1;}#sk-container-id-1 div.sk-parallel-item {display: flex;flex-direction: column;z-index: 1;position: relative;background-color: white;}#sk-container-id-1 div.sk-parallel-item:first-child::after {align-self: flex-end;width: 50%;}#sk-container-id-1 div.sk-parallel-item:last-child::after {align-self: flex-start;width: 50%;}#sk-container-id-1 div.sk-parallel-item:only-child::after {width: 0;}#sk-container-id-1 div.sk-dashed-wrapped {border: 1px dashed gray;margin: 0 0.4em 0.5em 0.4em;box-sizing: border-box;padding-bottom: 0.4em;background-color: white;}#sk-container-id-1 div.sk-label label {font-family: monospace;font-weight: bold;display: inline-block;line-height: 1.2em;}#sk-container-id-1 div.sk-label-container {text-align: center;}#sk-container-id-1 div.sk-container {/* jupyter's `normalize.less` sets `[hidden] { display: none; }` but bootstrap.min.css set `[hidden] { display: none !important; }` so we also need the `!important` here to be able to override the default hidden behavior on the sphinx rendered scikit-learn.org. See: https://github.com/scikit-learn/scikit-learn/issues/21755 */display: inline-block !important;position: relative;}#sk-container-id-1 div.sk-text-repr-fallback {display: none;}</style><div id=\"sk-container-id-1\" class=\"sk-top-container\"><div class=\"sk-text-repr-fallback\"><pre>LinearRegression()</pre><b>In a Jupyter environment, please rerun this cell to show the HTML representation or trust the notebook. <br />On GitHub, the HTML representation is unable to render, please try loading this page with nbviewer.org.</b></div><div class=\"sk-container\" hidden><div class=\"sk-item\"><div class=\"sk-estimator sk-toggleable\"><input class=\"sk-toggleable__control sk-hidden--visually\" id=\"sk-estimator-id-1\" type=\"checkbox\" checked><label for=\"sk-estimator-id-1\" class=\"sk-toggleable__label sk-toggleable__label-arrow\">LinearRegression</label><div class=\"sk-toggleable__content\"><pre>LinearRegression()</pre></div></div></div></div></div>"
            ]
          },
          "metadata": {},
          "execution_count": 175
        }
      ]
    },
    {
      "cell_type": "code",
      "source": [
        "prediction = lin_poly.predict(poly.fit_transform(test_X))\n",
        "y_pred = prediction.argmax(axis=-1)\n",
        "cf1 = confusion_matrix(test_y, y_pred)\n",
        "print(cf1)\n",
        "\n",
        "evaluation = f1_score(test_y, y_pred, average='micro')\n",
        "\n",
        "print(\"F1 - micro: \" + str(evaluation))\n",
        "\n",
        "evaluation = f1_score(test_y, y_pred, average='macro')\n",
        "print(\"F1 - macro: \" + str(evaluation))\n",
        "\n",
        "evaluation = accuracy_score(test_y, y_pred)\n",
        "print(\"Accuracy: \" + str(evaluation))\n",
        "\n",
        "df_cm1 = pd.DataFrame(cf1, index = [\"clean\",\"offensive\",\"hate\"],\n",
        "                  columns = [\"clean\",\"offensive\",\"hate\"])\n",
        "plt.clf()\n",
        "sn.heatmap(df_cm1, annot=True, cmap=\"Greys\",fmt='g', cbar=True, annot_kws={\"size\": 30})"
      ],
      "metadata": {
        "colab": {
          "base_uri": "https://localhost:8080/",
          "height": 551
        },
        "id": "WdzRbx0KhVOZ",
        "outputId": "c7547a63-b1a4-403f-e186-ed4e56ed45e5"
      },
      "execution_count": null,
      "outputs": [
        {
          "output_type": "stream",
          "name": "stdout",
          "text": [
            "[[5479    6   63]\n",
            " [ 441    0    3]\n",
            " [ 642    9   37]]\n",
            "F1 - micro: 0.8257485029940119\n",
            "F1 - macro: 0.3328081572799973\n",
            "Accuracy: 0.8257485029940119\n"
          ]
        },
        {
          "output_type": "execute_result",
          "data": {
            "text/plain": [
              "<Axes: >"
            ]
          },
          "metadata": {},
          "execution_count": 176
        },
        {
          "output_type": "display_data",
          "data": {
            "text/plain": [
              "<Figure size 640x480 with 2 Axes>"
            ],
            "image/png": "[encoded data removed]"
          },
          "metadata": {}
        }
      ]
    },
    {
      "cell_type": "markdown",
      "source": [
        "## XGBoost"
      ],
      "metadata": {
        "id": "JX7bPvYfiuga"
      }
    },
    {
      "cell_type": "code",
      "source": [
        "import xgboost as xgb\n",
        "train_y_arg = train_y.argmax(axis=-1).reshape(-1, 1)\n",
        "dev_y_arg = dev_y.argmax(axis=-1).reshape(-1, 1)\n",
        "\n",
        "eval_set = [(dev_X, dev_y_arg)]\n",
        "\n",
        "xg = xgb.XGBClassifier(objective='multi:softmax', \n",
        "                    num_class=3, \n",
        "                    missing=1, \n",
        "                    early_stopping_rounds=10, \n",
        "                    eval_metric=['merror','mlogloss'], \n",
        "                    seed=42)\n",
        "xg.fit(train_X, train_y_arg, eval_set=eval_set)\n",
        "pickle.dump(xg, open('/content/drive/MyDrive/Hate Speech Detection/model/XGBoost.pkl', \"wb\"))"
      ],
      "metadata": {
        "colab": {
          "base_uri": "https://localhost:8080/"
        },
        "id": "ybtmrmK5ixFq",
        "outputId": "d62533eb-ed47-4f67-95ec-b7699bbd9524"
      },
      "execution_count": null,
      "outputs": [
        {
          "output_type": "stream",
          "name": "stdout",
          "text": [
            "[0]\tvalidation_0-merror:0.18226\tvalidation_0-mlogloss:0.87085\n",
            "[1]\tvalidation_0-merror:0.18114\tvalidation_0-mlogloss:0.74398\n",
            "[2]\tvalidation_0-merror:0.18151\tvalidation_0-mlogloss:0.66740\n",
            "[3]\tvalidation_0-merror:0.18301\tvalidation_0-mlogloss:0.62077\n",
            "[4]\tvalidation_0-merror:0.18114\tvalidation_0-mlogloss:0.59166\n",
            "[5]\tvalidation_0-merror:0.18226\tvalidation_0-mlogloss:0.57290\n",
            "[6]\tvalidation_0-merror:0.18114\tvalidation_0-mlogloss:0.56106\n",
            "[7]\tvalidation_0-merror:0.18001\tvalidation_0-mlogloss:0.55443\n",
            "[8]\tvalidation_0-merror:0.17964\tvalidation_0-mlogloss:0.55050\n",
            "[9]\tvalidation_0-merror:0.17964\tvalidation_0-mlogloss:0.54819\n",
            "[10]\tvalidation_0-merror:0.17964\tvalidation_0-mlogloss:0.54752\n",
            "[11]\tvalidation_0-merror:0.17964\tvalidation_0-mlogloss:0.54516\n",
            "[12]\tvalidation_0-merror:0.17889\tvalidation_0-mlogloss:0.54356\n",
            "[13]\tvalidation_0-merror:0.17889\tvalidation_0-mlogloss:0.54216\n",
            "[14]\tvalidation_0-merror:0.17777\tvalidation_0-mlogloss:0.54216\n",
            "[15]\tvalidation_0-merror:0.17889\tvalidation_0-mlogloss:0.54189\n",
            "[16]\tvalidation_0-merror:0.17964\tvalidation_0-mlogloss:0.54157\n",
            "[17]\tvalidation_0-merror:0.17964\tvalidation_0-mlogloss:0.54194\n",
            "[18]\tvalidation_0-merror:0.17964\tvalidation_0-mlogloss:0.54202\n",
            "[19]\tvalidation_0-merror:0.17964\tvalidation_0-mlogloss:0.54164\n",
            "[20]\tvalidation_0-merror:0.17927\tvalidation_0-mlogloss:0.54205\n",
            "[21]\tvalidation_0-merror:0.18039\tvalidation_0-mlogloss:0.54091\n",
            "[22]\tvalidation_0-merror:0.18001\tvalidation_0-mlogloss:0.54073\n",
            "[23]\tvalidation_0-merror:0.18039\tvalidation_0-mlogloss:0.54097\n",
            "[24]\tvalidation_0-merror:0.18001\tvalidation_0-mlogloss:0.53961\n",
            "[25]\tvalidation_0-merror:0.18039\tvalidation_0-mlogloss:0.53950\n",
            "[26]\tvalidation_0-merror:0.18039\tvalidation_0-mlogloss:0.53954\n",
            "[27]\tvalidation_0-merror:0.18114\tvalidation_0-mlogloss:0.54074\n",
            "[28]\tvalidation_0-merror:0.18039\tvalidation_0-mlogloss:0.53964\n",
            "[29]\tvalidation_0-merror:0.18039\tvalidation_0-mlogloss:0.54060\n",
            "[30]\tvalidation_0-merror:0.18076\tvalidation_0-mlogloss:0.54094\n",
            "[31]\tvalidation_0-merror:0.18039\tvalidation_0-mlogloss:0.53877\n",
            "[32]\tvalidation_0-merror:0.18114\tvalidation_0-mlogloss:0.53860\n",
            "[33]\tvalidation_0-merror:0.18189\tvalidation_0-mlogloss:0.53942\n",
            "[34]\tvalidation_0-merror:0.18114\tvalidation_0-mlogloss:0.53863\n",
            "[35]\tvalidation_0-merror:0.18114\tvalidation_0-mlogloss:0.53942\n",
            "[36]\tvalidation_0-merror:0.18039\tvalidation_0-mlogloss:0.53944\n",
            "[37]\tvalidation_0-merror:0.18039\tvalidation_0-mlogloss:0.53832\n",
            "[38]\tvalidation_0-merror:0.18001\tvalidation_0-mlogloss:0.53769\n",
            "[39]\tvalidation_0-merror:0.17964\tvalidation_0-mlogloss:0.53683\n",
            "[40]\tvalidation_0-merror:0.17964\tvalidation_0-mlogloss:0.53690\n",
            "[41]\tvalidation_0-merror:0.17964\tvalidation_0-mlogloss:0.53662\n",
            "[42]\tvalidation_0-merror:0.17927\tvalidation_0-mlogloss:0.53600\n",
            "[43]\tvalidation_0-merror:0.17927\tvalidation_0-mlogloss:0.53564\n",
            "[44]\tvalidation_0-merror:0.17889\tvalidation_0-mlogloss:0.53524\n",
            "[45]\tvalidation_0-merror:0.17889\tvalidation_0-mlogloss:0.53527\n",
            "[46]\tvalidation_0-merror:0.17889\tvalidation_0-mlogloss:0.53600\n",
            "[47]\tvalidation_0-merror:0.17852\tvalidation_0-mlogloss:0.53411\n",
            "[48]\tvalidation_0-merror:0.17852\tvalidation_0-mlogloss:0.53428\n",
            "[49]\tvalidation_0-merror:0.17852\tvalidation_0-mlogloss:0.53355\n",
            "[50]\tvalidation_0-merror:0.17964\tvalidation_0-mlogloss:0.53399\n",
            "[51]\tvalidation_0-merror:0.17889\tvalidation_0-mlogloss:0.53410\n",
            "[52]\tvalidation_0-merror:0.17927\tvalidation_0-mlogloss:0.53354\n",
            "[53]\tvalidation_0-merror:0.17889\tvalidation_0-mlogloss:0.53358\n",
            "[54]\tvalidation_0-merror:0.17889\tvalidation_0-mlogloss:0.53284\n",
            "[55]\tvalidation_0-merror:0.17927\tvalidation_0-mlogloss:0.53262\n",
            "[56]\tvalidation_0-merror:0.17927\tvalidation_0-mlogloss:0.53204\n",
            "[57]\tvalidation_0-merror:0.17927\tvalidation_0-mlogloss:0.53211\n",
            "[58]\tvalidation_0-merror:0.17927\tvalidation_0-mlogloss:0.53208\n",
            "[59]\tvalidation_0-merror:0.17927\tvalidation_0-mlogloss:0.53214\n",
            "[60]\tvalidation_0-merror:0.17927\tvalidation_0-mlogloss:0.53241\n",
            "[61]\tvalidation_0-merror:0.17964\tvalidation_0-mlogloss:0.53251\n",
            "[62]\tvalidation_0-merror:0.17889\tvalidation_0-mlogloss:0.53174\n",
            "[63]\tvalidation_0-merror:0.17852\tvalidation_0-mlogloss:0.53058\n",
            "[64]\tvalidation_0-merror:0.17852\tvalidation_0-mlogloss:0.53070\n",
            "[65]\tvalidation_0-merror:0.17889\tvalidation_0-mlogloss:0.53123\n",
            "[66]\tvalidation_0-merror:0.17814\tvalidation_0-mlogloss:0.53146\n",
            "[67]\tvalidation_0-merror:0.17927\tvalidation_0-mlogloss:0.53159\n",
            "[68]\tvalidation_0-merror:0.17777\tvalidation_0-mlogloss:0.53136\n",
            "[69]\tvalidation_0-merror:0.17740\tvalidation_0-mlogloss:0.53149\n",
            "[70]\tvalidation_0-merror:0.17740\tvalidation_0-mlogloss:0.53127\n",
            "[71]\tvalidation_0-merror:0.17627\tvalidation_0-mlogloss:0.53091\n",
            "[72]\tvalidation_0-merror:0.17665\tvalidation_0-mlogloss:0.53131\n"
          ]
        }
      ]
    },
    {
      "cell_type": "code",
      "source": [
        "xg = pickle.load(open('/content/drive/MyDrive/Hate Speech Detection/model/XGBoost.pkl', \"rb\"))\n",
        "prediction = xg.predict(test_X)\n",
        "y_pred = prediction\n",
        "\n",
        "cf1 = confusion_matrix(test_y, y_pred)\n",
        "print(cf1)\n",
        "\n",
        "evaluation = f1_score(test_y, y_pred, average='micro')\n",
        "\n",
        "print(\"F1 - micro: \" + str(evaluation))\n",
        "\n",
        "evaluation = f1_score(test_y, y_pred, average='macro')\n",
        "print(\"F1 - macro: \" + str(evaluation))\n",
        "\n",
        "evaluation = accuracy_score(test_y, y_pred)\n",
        "print(\"Accuracy: \" + str(evaluation))\n",
        "\n",
        "df_cm1 = pd.DataFrame(cf1, index = [\"clean\",\"offensive\",\"hate\"],\n",
        "                  columns = [\"clean\",\"offensive\",\"hate\"])\n",
        "plt.clf()\n",
        "sn.heatmap(df_cm1, annot=True, cmap=\"Greys\",fmt='g', cbar=True, annot_kws={\"size\": 30})"
      ],
      "metadata": {
        "colab": {
          "base_uri": "https://localhost:8080/",
          "height": 551
        },
        "id": "3b4b49A5jVW5",
        "outputId": "e680a6e8-174b-4000-93bd-db6fa4662c51"
      },
      "execution_count": null,
      "outputs": [
        {
          "output_type": "stream",
          "name": "stdout",
          "text": [
            "[[5469    2   77]\n",
            " [ 425    2   17]\n",
            " [ 593    6   89]]\n",
            "F1 - micro: 0.8323353293413174\n",
            "F1 - macro: 0.3740075213092838\n",
            "Accuracy: 0.8323353293413174\n"
          ]
        },
        {
          "output_type": "execute_result",
          "data": {
            "text/plain": [
              "<Axes: >"
            ]
          },
          "metadata": {},
          "execution_count": 57
        },
        {
          "output_type": "display_data",
          "data": {
            "text/plain": [
              "<Figure size 640x480 with 2 Axes>"
            ],
            "image/png": "[encoded data removed]"
          },
          "metadata": {}
        }
      ]
    },
    {
      "cell_type": "markdown",
      "source": [
        "## Transformer (PhoBERT)"
      ],
      "metadata": {
        "id": "jgw6Jxj5oyiw"
      }
    },
    {
      "cell_type": "code",
      "source": [
        "!pip uninstall -y transformers accelerate\n",
        "!pip install transformers accelerate"
      ],
      "metadata": {
        "id": "MGm11SVpB4f2",
        "colab": {
          "base_uri": "https://localhost:8080/",
          "height": 800
        },
        "outputId": "55371440-70d1-48a0-e1ce-db7137edb3a4"
      },
      "execution_count": null,
      "outputs": [
        {
          "output_type": "stream",
          "name": "stdout",
          "text": [
            "Found existing installation: transformers 4.31.0.dev0\n",
            "Uninstalling transformers-4.31.0.dev0:\n",
            "  Successfully uninstalled transformers-4.31.0.dev0\n",
            "\u001b[33mWARNING: Skipping accelerate as it is not installed.\u001b[0m\u001b[33m\n",
            "\u001b[0mLooking in indexes: https://pypi.org/simple, https://us-python.pkg.dev/colab-wheels/public/simple/\n",
            "Collecting transformers\n",
            "  Downloading transformers-4.30.1-py3-none-any.whl (7.2 MB)\n",
            "\u001b[2K     \u001b[90m━━━━━━━━━━━━━━━━━━━━━━━━━━━━━━━━━━━━━━━━\u001b[0m \u001b[32m7.2/7.2 MB\u001b[0m \u001b[31m93.0 MB/s\u001b[0m eta \u001b[36m0:00:00\u001b[0m\n",
            "\u001b[?25hCollecting accelerate\n",
            "  Downloading accelerate-0.20.3-py3-none-any.whl (227 kB)\n",
            "\u001b[2K     \u001b[90m━━━━━━━━━━━━━━━━━━━━━━━━━━━━━━━━━━━━━━\u001b[0m \u001b[32m227.6/227.6 kB\u001b[0m \u001b[31m29.8 MB/s\u001b[0m eta \u001b[36m0:00:00\u001b[0m\n",
            "\u001b[?25hRequirement already satisfied: filelock in /usr/local/lib/python3.10/dist-packages (from transformers) (3.12.0)\n",
            "Requirement already satisfied: huggingface-hub<1.0,>=0.14.1 in /usr/local/lib/python3.10/dist-packages (from transformers) (0.15.1)\n",
            "Requirement already satisfied: numpy>=1.17 in /usr/local/lib/python3.10/dist-packages (from transformers) (1.22.4)\n",
            "Requirement already satisfied: packaging>=20.0 in /usr/local/lib/python3.10/dist-packages (from transformers) (23.1)\n",
            "Requirement already satisfied: pyyaml>=5.1 in /usr/local/lib/python3.10/dist-packages (from transformers) (6.0)\n",
            "Requirement already satisfied: regex!=2019.12.17 in /usr/local/lib/python3.10/dist-packages (from transformers) (2022.10.31)\n",
            "Requirement already satisfied: requests in /usr/local/lib/python3.10/dist-packages (from transformers) (2.27.1)\n",
            "Requirement already satisfied: tokenizers!=0.11.3,<0.14,>=0.11.1 in /usr/local/lib/python3.10/dist-packages (from transformers) (0.13.3)\n",
            "Requirement already satisfied: safetensors>=0.3.1 in /usr/local/lib/python3.10/dist-packages (from transformers) (0.3.1)\n",
            "Requirement already satisfied: tqdm>=4.27 in /usr/local/lib/python3.10/dist-packages (from transformers) (4.65.0)\n",
            "Requirement already satisfied: psutil in /usr/local/lib/python3.10/dist-packages (from accelerate) (5.9.5)\n",
            "Requirement already satisfied: torch>=1.6.0 in /usr/local/lib/python3.10/dist-packages (from accelerate) (2.0.1+cu118)\n",
            "Requirement already satisfied: fsspec in /usr/local/lib/python3.10/dist-packages (from huggingface-hub<1.0,>=0.14.1->transformers) (2023.4.0)\n",
            "Requirement already satisfied: typing-extensions>=3.7.4.3 in /usr/local/lib/python3.10/dist-packages (from huggingface-hub<1.0,>=0.14.1->transformers) (4.5.0)\n",
            "Requirement already satisfied: sympy in /usr/local/lib/python3.10/dist-packages (from torch>=1.6.0->accelerate) (1.11.1)\n",
            "Requirement already satisfied: networkx in /usr/local/lib/python3.10/dist-packages (from torch>=1.6.0->accelerate) (3.1)\n",
            "Requirement already satisfied: jinja2 in /usr/local/lib/python3.10/dist-packages (from torch>=1.6.0->accelerate) (3.1.2)\n",
            "Requirement already satisfied: triton==2.0.0 in /usr/local/lib/python3.10/dist-packages (from torch>=1.6.0->accelerate) (2.0.0)\n",
            "Requirement already satisfied: cmake in /usr/local/lib/python3.10/dist-packages (from triton==2.0.0->torch>=1.6.0->accelerate) (3.25.2)\n",
            "Requirement already satisfied: lit in /usr/local/lib/python3.10/dist-packages (from triton==2.0.0->torch>=1.6.0->accelerate) (16.0.5)\n",
            "Requirement already satisfied: urllib3<1.27,>=1.21.1 in /usr/local/lib/python3.10/dist-packages (from requests->transformers) (1.26.15)\n",
            "Requirement already satisfied: certifi>=2017.4.17 in /usr/local/lib/python3.10/dist-packages (from requests->transformers) (2022.12.7)\n",
            "Requirement already satisfied: charset-normalizer~=2.0.0 in /usr/local/lib/python3.10/dist-packages (from requests->transformers) (2.0.12)\n",
            "Requirement already satisfied: idna<4,>=2.5 in /usr/local/lib/python3.10/dist-packages (from requests->transformers) (3.4)\n",
            "Requirement already satisfied: MarkupSafe>=2.0 in /usr/local/lib/python3.10/dist-packages (from jinja2->torch>=1.6.0->accelerate) (2.1.2)\n",
            "Requirement already satisfied: mpmath>=0.19 in /usr/local/lib/python3.10/dist-packages (from sympy->torch>=1.6.0->accelerate) (1.3.0)\n",
            "Installing collected packages: transformers, accelerate\n",
            "Successfully installed accelerate-0.20.3 transformers-4.30.1\n"
          ]
        },
        {
          "output_type": "display_data",
          "data": {
            "application/vnd.colab-display-data+json": {
              "pip_warning": {
                "packages": [
                  "transformers"
                ]
              }
            }
          },
          "metadata": {}
        }
      ]
    },
    {
      "cell_type": "code",
      "source": [
        "!pip install git+https://github.com/huggingface/transformers"
      ],
      "metadata": {
        "colab": {
          "base_uri": "https://localhost:8080/"
        },
        "id": "s6JhG9L_8SEl",
        "outputId": "f0359d96-f239-4cd5-aa8c-a9979df19800"
      },
      "execution_count": null,
      "outputs": [
        {
          "output_type": "stream",
          "name": "stdout",
          "text": [
            "Looking in indexes: https://pypi.org/simple, https://us-python.pkg.dev/colab-wheels/public/simple/\n",
            "Collecting git+https://github.com/huggingface/transformers\n",
            "  Cloning https://github.com/huggingface/transformers to /tmp/pip-req-build-c2g6o_d6\n",
            "  Running command git clone --filter=blob:none --quiet https://github.com/huggingface/transformers /tmp/pip-req-build-c2g6o_d6\n",
            "  Resolved https://github.com/huggingface/transformers to commit deff5979fee1f989d26e4946c92a5c35ce695af8\n",
            "  Installing build dependencies ... \u001b[?25l\u001b[?25hdone\n",
            "  Getting requirements to build wheel ... \u001b[?25l\u001b[?25hdone\n",
            "  Preparing metadata (pyproject.toml) ... \u001b[?25l\u001b[?25hdone\n",
            "Requirement already satisfied: filelock in /usr/local/lib/python3.10/dist-packages (from transformers==4.31.0.dev0) (3.12.0)\n",
            "Collecting huggingface-hub<1.0,>=0.14.1 (from transformers==4.31.0.dev0)\n",
            "  Downloading huggingface_hub-0.15.1-py3-none-any.whl (236 kB)\n",
            "\u001b[2K     \u001b[90m━━━━━━━━━━━━━━━━━━━━━━━━━━━━━━━━━━━━━━━\u001b[0m \u001b[32m236.8/236.8 kB\u001b[0m \u001b[31m9.4 MB/s\u001b[0m eta \u001b[36m0:00:00\u001b[0m\n",
            "\u001b[?25hRequirement already satisfied: numpy>=1.17 in /usr/local/lib/python3.10/dist-packages (from transformers==4.31.0.dev0) (1.22.4)\n",
            "Requirement already satisfied: packaging>=20.0 in /usr/local/lib/python3.10/dist-packages (from transformers==4.31.0.dev0) (23.1)\n",
            "Requirement already satisfied: pyyaml>=5.1 in /usr/local/lib/python3.10/dist-packages (from transformers==4.31.0.dev0) (6.0)\n",
            "Requirement already satisfied: regex!=2019.12.17 in /usr/local/lib/python3.10/dist-packages (from transformers==4.31.0.dev0) (2022.10.31)\n",
            "Requirement already satisfied: requests in /usr/local/lib/python3.10/dist-packages (from transformers==4.31.0.dev0) (2.27.1)\n",
            "Collecting tokenizers!=0.11.3,<0.14,>=0.11.1 (from transformers==4.31.0.dev0)\n",
            "  Downloading tokenizers-0.13.3-cp310-cp310-manylinux_2_17_x86_64.manylinux2014_x86_64.whl (7.8 MB)\n",
            "\u001b[2K     \u001b[90m━━━━━━━━━━━━━━━━━━━━━━━━━━━━━━━━━━━━━━━━\u001b[0m \u001b[32m7.8/7.8 MB\u001b[0m \u001b[31m43.1 MB/s\u001b[0m eta \u001b[36m0:00:00\u001b[0m\n",
            "\u001b[?25hCollecting safetensors>=0.3.1 (from transformers==4.31.0.dev0)\n",
            "  Downloading safetensors-0.3.1-cp310-cp310-manylinux_2_17_x86_64.manylinux2014_x86_64.whl (1.3 MB)\n",
            "\u001b[2K     \u001b[90m━━━━━━━━━━━━━━━━━━━━━━━━━━━━━━━━━━━━━━━━\u001b[0m \u001b[32m1.3/1.3 MB\u001b[0m \u001b[31m16.6 MB/s\u001b[0m eta \u001b[36m0:00:00\u001b[0m\n",
            "\u001b[?25hRequirement already satisfied: tqdm>=4.27 in /usr/local/lib/python3.10/dist-packages (from transformers==4.31.0.dev0) (4.65.0)\n",
            "Requirement already satisfied: fsspec in /usr/local/lib/python3.10/dist-packages (from huggingface-hub<1.0,>=0.14.1->transformers==4.31.0.dev0) (2023.4.0)\n",
            "Requirement already satisfied: typing-extensions>=3.7.4.3 in /usr/local/lib/python3.10/dist-packages (from huggingface-hub<1.0,>=0.14.1->transformers==4.31.0.dev0) (4.5.0)\n",
            "Requirement already satisfied: urllib3<1.27,>=1.21.1 in /usr/local/lib/python3.10/dist-packages (from requests->transformers==4.31.0.dev0) (1.26.15)\n",
            "Requirement already satisfied: certifi>=2017.4.17 in /usr/local/lib/python3.10/dist-packages (from requests->transformers==4.31.0.dev0) (2022.12.7)\n",
            "Requirement already satisfied: charset-normalizer~=2.0.0 in /usr/local/lib/python3.10/dist-packages (from requests->transformers==4.31.0.dev0) (2.0.12)\n",
            "Requirement already satisfied: idna<4,>=2.5 in /usr/local/lib/python3.10/dist-packages (from requests->transformers==4.31.0.dev0) (3.4)\n",
            "Building wheels for collected packages: transformers\n",
            "  Building wheel for transformers (pyproject.toml) ... \u001b[?25l\u001b[?25hdone\n",
            "  Created wheel for transformers: filename=transformers-4.31.0.dev0-py3-none-any.whl size=7170396 sha256=4830e69ac04f4a1e001e52abe5df5d031b886cebb4ac5660088b9a38747d2ee7\n",
            "  Stored in directory: /tmp/pip-ephem-wheel-cache-5c0mprkm/wheels/c0/14/d6/6c9a5582d2ac191ec0a483be151a4495fe1eb2a6706ca49f1b\n",
            "Successfully built transformers\n",
            "Installing collected packages: tokenizers, safetensors, huggingface-hub, transformers\n",
            "Successfully installed huggingface-hub-0.15.1 safetensors-0.3.1 tokenizers-0.13.3 transformers-4.31.0.dev0\n"
          ]
        }
      ]
    },
    {
      "cell_type": "code",
      "source": [
        "!pip install vncorenlp"
      ],
      "metadata": {
        "colab": {
          "base_uri": "https://localhost:8080/"
        },
        "id": "t17eX61j9pVy",
        "outputId": "7594d7b4-ad16-4dfd-f63b-0d8fbd64b625"
      },
      "execution_count": null,
      "outputs": [
        {
          "output_type": "stream",
          "name": "stdout",
          "text": [
            "Looking in indexes: https://pypi.org/simple, https://us-python.pkg.dev/colab-wheels/public/simple/\n",
            "Collecting vncorenlp\n",
            "  Downloading vncorenlp-1.0.3.tar.gz (2.6 MB)\n",
            "\u001b[2K     \u001b[90m━━━━━━━━━━━━━━━━━━━━━━━━━━━━━━━━━━━━━━━━\u001b[0m \u001b[32m2.6/2.6 MB\u001b[0m \u001b[31m60.8 MB/s\u001b[0m eta \u001b[36m0:00:00\u001b[0m\n",
            "\u001b[?25h  Preparing metadata (setup.py) ... \u001b[?25l\u001b[?25hdone\n",
            "Requirement already satisfied: requests in /usr/local/lib/python3.10/dist-packages (from vncorenlp) (2.27.1)\n",
            "Requirement already satisfied: urllib3<1.27,>=1.21.1 in /usr/local/lib/python3.10/dist-packages (from requests->vncorenlp) (1.26.15)\n",
            "Requirement already satisfied: certifi>=2017.4.17 in /usr/local/lib/python3.10/dist-packages (from requests->vncorenlp) (2022.12.7)\n",
            "Requirement already satisfied: charset-normalizer~=2.0.0 in /usr/local/lib/python3.10/dist-packages (from requests->vncorenlp) (2.0.12)\n",
            "Requirement already satisfied: idna<4,>=2.5 in /usr/local/lib/python3.10/dist-packages (from requests->vncorenlp) (3.4)\n",
            "Building wheels for collected packages: vncorenlp\n",
            "  Building wheel for vncorenlp (setup.py) ... \u001b[?25l\u001b[?25hdone\n",
            "  Created wheel for vncorenlp: filename=vncorenlp-1.0.3-py3-none-any.whl size=2645933 sha256=21ba51f1295dbc6f2057659af6271822fe56a8c3f98f5d7ec86508146eb6fc0e\n",
            "  Stored in directory: /root/.cache/pip/wheels/5d/d9/b3/41f6c6b1ab758561fd4aab55dc0480b9d7a131c6aaa573a3fa\n",
            "Successfully built vncorenlp\n",
            "Installing collected packages: vncorenlp\n",
            "Successfully installed vncorenlp-1.0.3\n"
          ]
        }
      ]
    },
    {
      "cell_type": "code",
      "source": [
        "%cd '/content/drive/MyDrive/Hate Speech Detection/model'\n",
        "%mkdir PhoBERT\n",
        "%cd PhoBERT"
      ],
      "metadata": {
        "colab": {
          "base_uri": "https://localhost:8080/"
        },
        "id": "q0l8c_gx9aGl",
        "outputId": "78e5e712-19f7-4476-a091-88f31778374f"
      },
      "execution_count": null,
      "outputs": [
        {
          "output_type": "stream",
          "name": "stdout",
          "text": [
            "/content/drive/MyDrive/Hate Speech Detection/model\n",
            "mkdir: cannot create directory ‘PhoBERT’: File exists\n",
            "/content/drive/MyDrive/Hate Speech Detection/model/PhoBERT\n"
          ]
        }
      ]
    },
    {
      "cell_type": "code",
      "source": [
        "!mkdir -p vncorenlp/models/wordsegmenter\n",
        "!wget https://raw.githubusercontent.com/vncorenlp/VnCoreNLP/master/VnCoreNLP-1.1.1.jar\n",
        "!wget https://raw.githubusercontent.com/vncorenlp/VnCoreNLP/master/models/wordsegmenter/vi-vocab\n",
        "!wget https://raw.githubusercontent.com/vncorenlp/VnCoreNLP/master/models/wordsegmenter/wordsegmenter.rdr\n",
        "!mv VnCoreNLP-1.1.1.jar vncorenlp/\n",
        "!mv vi-vocab vncorenlp/models/wordsegmenter/\n",
        "!mv wordsegmenter.rdr vncorenlp/models/wordsegmenter/"
      ],
      "metadata": {
        "colab": {
          "base_uri": "https://localhost:8080/"
        },
        "id": "LAfoaPL083LY",
        "outputId": "c1c4a34d-0220-4e5a-efa7-59870c4ddbb5"
      },
      "execution_count": null,
      "outputs": [
        {
          "output_type": "stream",
          "name": "stdout",
          "text": [
            "--2023-06-09 18:47:16--  https://raw.githubusercontent.com/vncorenlp/VnCoreNLP/master/VnCoreNLP-1.1.1.jar\n",
            "Resolving raw.githubusercontent.com (raw.githubusercontent.com)... 185.199.108.133, 185.199.109.133, 185.199.110.133, ...\n",
            "Connecting to raw.githubusercontent.com (raw.githubusercontent.com)|185.199.108.133|:443... connected.\n",
            "HTTP request sent, awaiting response... 200 OK\n",
            "Length: 27412575 (26M) [application/octet-stream]\n",
            "Saving to: ‘VnCoreNLP-1.1.1.jar’\n",
            "\n",
            "VnCoreNLP-1.1.1.jar 100%[===================>]  26.14M  97.3MB/s    in 0.3s    \n",
            "\n",
            "2023-06-09 18:47:18 (97.3 MB/s) - ‘VnCoreNLP-1.1.1.jar’ saved [27412575/27412575]\n",
            "\n",
            "--2023-06-09 18:47:18--  https://raw.githubusercontent.com/vncorenlp/VnCoreNLP/master/models/wordsegmenter/vi-vocab\n",
            "Resolving raw.githubusercontent.com (raw.githubusercontent.com)... 185.199.108.133, 185.199.109.133, 185.199.110.133, ...\n",
            "Connecting to raw.githubusercontent.com (raw.githubusercontent.com)|185.199.108.133|:443... connected.\n",
            "HTTP request sent, awaiting response... 200 OK\n",
            "Length: 526544 (514K) [application/octet-stream]\n",
            "Saving to: ‘vi-vocab’\n",
            "\n",
            "vi-vocab            100%[===================>] 514.20K  --.-KB/s    in 0.02s   \n",
            "\n",
            "2023-06-09 18:47:18 (31.8 MB/s) - ‘vi-vocab’ saved [526544/526544]\n",
            "\n",
            "--2023-06-09 18:47:19--  https://raw.githubusercontent.com/vncorenlp/VnCoreNLP/master/models/wordsegmenter/wordsegmenter.rdr\n",
            "Resolving raw.githubusercontent.com (raw.githubusercontent.com)... 185.199.111.133, 185.199.109.133, 185.199.110.133, ...\n",
            "Connecting to raw.githubusercontent.com (raw.githubusercontent.com)|185.199.111.133|:443... connected.\n",
            "HTTP request sent, awaiting response... 200 OK\n",
            "Length: 128508 (125K) [text/plain]\n",
            "Saving to: ‘wordsegmenter.rdr’\n",
            "\n",
            "wordsegmenter.rdr   100%[===================>] 125.50K  --.-KB/s    in 0.007s  \n",
            "\n",
            "2023-06-09 18:47:19 (16.5 MB/s) - ‘wordsegmenter.rdr’ saved [128508/128508]\n",
            "\n"
          ]
        }
      ]
    },
    {
      "cell_type": "code",
      "source": [
        "import pandas as pd\n",
        "# load data\n",
        "train = pd.read_csv('/content/drive/MyDrive/Hate Speech Detection/vihsd/train.csv', index_col=False)\n",
        "dev = pd.read_csv('/content/drive/MyDrive/Hate Speech Detection/vihsd/dev.csv', index_col=False)\n",
        "test = pd.read_csv('/content/drive/MyDrive/Hate Speech Detection/vihsd/test.csv', index_col=False)\n",
        "train.reset_index(drop=True)\n",
        "\n",
        "print(len(train))\n",
        "print(len(dev))\n",
        "print(len(test))"
      ],
      "metadata": {
        "colab": {
          "base_uri": "https://localhost:8080/"
        },
        "id": "l1XAalXD8_oX",
        "outputId": "92326b6a-c646-41ba-e58a-48bed5f708ec"
      },
      "execution_count": null,
      "outputs": [
        {
          "output_type": "stream",
          "name": "stdout",
          "text": [
            "24048\n",
            "2672\n",
            "6680\n"
          ]
        }
      ]
    },
    {
      "cell_type": "code",
      "source": [
        "from vncorenlp import VnCoreNLP\n",
        "\n",
        "vncorenlp = VnCoreNLP(\"/content/drive/MyDrive/Hate Speech Detection/model/PhoBERT/vncorenlp/VnCoreNLP-1.1.1.jar\", annotators=\"wseg\", max_heap_size='-Xmx500m') "
      ],
      "metadata": {
        "id": "9proI_nB9R7_"
      },
      "execution_count": null,
      "outputs": []
    },
    {
      "cell_type": "markdown",
      "source": [
        "### Tiền xử lí cho riêng PhoBERT"
      ],
      "metadata": {
        "id": "O3E7HrJM-f4i"
      }
    },
    {
      "cell_type": "code",
      "source": [
        "def preprocess(text, tokenized=True, lowercased=True):\n",
        "    text = filter_stop_words(text, stopwords)\n",
        "    text = deEmojify(text)\n",
        "    text = text.lower() if lowercased else text\n",
        "    if tokenized:\n",
        "        pre_text = \"\"\n",
        "        sentences = vncorenlp.tokenize(text)\n",
        "        for sentence in sentences:\n",
        "            pre_text += \" \".join(sentence)\n",
        "        text = pre_text\n",
        "    return text"
      ],
      "metadata": {
        "id": "yhx6Nw9z-LfQ"
      },
      "execution_count": null,
      "outputs": []
    },
    {
      "cell_type": "code",
      "source": [
        "def pre_process_features(X, y, tokenized=True, lowercased=True):\n",
        "    X = [preprocess(str(p), tokenized=tokenized, lowercased=lowercased) for p in list(X)]\n",
        "    for idx, ele in enumerate(X):\n",
        "        if not ele:\n",
        "            np.delete(X, idx)\n",
        "            np.delete(y, idx)\n",
        "    return X, y"
      ],
      "metadata": {
        "id": "8jHEmenV-lle"
      },
      "execution_count": null,
      "outputs": []
    },
    {
      "cell_type": "code",
      "source": [
        "X_train = train['free_text']\n",
        "y_train = train['label_id'].values\n",
        "\n",
        "X_dev = dev['free_text']\n",
        "y_dev = dev['label_id'].values\n",
        "\n",
        "X_test = test['free_text']\n",
        "y_test = test['label_id'].values"
      ],
      "metadata": {
        "id": "abR_v7Al-rxp"
      },
      "execution_count": null,
      "outputs": []
    },
    {
      "cell_type": "markdown",
      "source": [
        "### Huấn luyện và kiểm thử"
      ],
      "metadata": {
        "id": "g4Xi5uPr-srM"
      }
    },
    {
      "cell_type": "code",
      "source": [
        "from sklearn.metrics import f1_score, confusion_matrix, accuracy_score, recall_score\n",
        "from transformers import AutoTokenizer, AutoModelForSequenceClassification, Trainer, TrainingArguments, BertTokenizer, BertForSequenceClassification\n",
        "\n",
        "import numpy as np\n",
        "import seaborn as sn\n",
        "import pandas as pd\n",
        "import matplotlib.pyplot as plt\n",
        "from pyvi.ViTokenizer import ViTokenizer"
      ],
      "metadata": {
        "id": "A-y6N4hNEhC0"
      },
      "execution_count": null,
      "outputs": []
    },
    {
      "cell_type": "code",
      "source": [
        "train_X, train_y = pre_process_features(X_train, y_train, tokenized=True, lowercased = False)\n",
        "dev_X, dev_y = pre_process_features(X_dev, y_dev, tokenized=True, lowercased = False)\n",
        "test_X, test_y = pre_process_features(X_test, y_test, tokenized=True, lowercased = False)\n",
        "  \n",
        "model = AutoModelForSequenceClassification.from_pretrained(\"vinai/phobert-base\", num_labels = 3)\n",
        "tokenizer = AutoTokenizer.from_pretrained(\"vinai/phobert-base\",use_fast=False)\n",
        "\n",
        "import torch\n",
        "\n",
        "class BuildDataset(torch.utils.data.Dataset):\n",
        "    def __init__(self, encodings, labels):\n",
        "        self.encodings = encodings\n",
        "        self.labels = labels\n",
        "\n",
        "    def __getitem__(self, idx):\n",
        "        item = {key: torch.tensor(val[idx]) for key, val in self.encodings.items()}\n",
        "        item['labels'] = torch.tensor(self.labels[idx])\n",
        "        return item\n",
        "\n",
        "    def __len__(self):\n",
        "        return len(self.labels)\n",
        "\n",
        "train_encodings = tokenizer(train_X, truncation=True, padding=True, max_length=100)\n",
        "dev_encodings = tokenizer(dev_X, truncation=True, padding=True, max_length=100)\n",
        "test_encodings = tokenizer(test_X, truncation=True, padding=True, max_length=100)\n",
        "\n",
        "train_dataset = BuildDataset(train_encodings, train_y)\n",
        "dev_dataset = BuildDataset(dev_encodings, dev_y)\n",
        "test_dataset = BuildDataset(test_encodings, test_y)\n"
      ],
      "metadata": {
        "id": "qBJnE6YXo3k7",
        "colab": {
          "base_uri": "https://localhost:8080/"
        },
        "outputId": "7af7df8e-3b17-41b6-f6c9-459046c8be2c"
      },
      "execution_count": null,
      "outputs": [
        {
          "output_type": "stream",
          "name": "stderr",
          "text": [
            "Some weights of the model checkpoint at vinai/phobert-base were not used when initializing RobertaForSequenceClassification: ['lm_head.layer_norm.weight', 'lm_head.decoder.weight', 'lm_head.bias', 'roberta.pooler.dense.weight', 'lm_head.decoder.bias', 'roberta.pooler.dense.bias', 'lm_head.dense.bias', 'lm_head.layer_norm.bias', 'lm_head.dense.weight']\n",
            "- This IS expected if you are initializing RobertaForSequenceClassification from the checkpoint of a model trained on another task or with another architecture (e.g. initializing a BertForSequenceClassification model from a BertForPreTraining model).\n",
            "- This IS NOT expected if you are initializing RobertaForSequenceClassification from the checkpoint of a model that you expect to be exactly identical (initializing a BertForSequenceClassification model from a BertForSequenceClassification model).\n",
            "Some weights of RobertaForSequenceClassification were not initialized from the model checkpoint at vinai/phobert-base and are newly initialized: ['classifier.dense.bias', 'classifier.dense.weight', 'classifier.out_proj.bias', 'classifier.out_proj.weight']\n",
            "You should probably TRAIN this model on a down-stream task to be able to use it for predictions and inference.\n",
            "Special tokens have been added in the vocabulary, make sure the associated word embeddings are fine-tuned or trained.\n"
          ]
        }
      ]
    },
    {
      "cell_type": "code",
      "source": [
        "training_args = TrainingArguments(\n",
        "    output_dir='/content/drive/MyDrive/Hate Speech Detection/model/phobert-v3/',          \n",
        "    num_train_epochs=2,              \n",
        "    per_device_train_batch_size=16,  \n",
        "    per_device_eval_batch_size=16,   \n",
        "    warmup_steps=500,\n",
        "    weight_decay=0.01,\n",
        "    no_cuda=False,\n",
        "    do_eval=True\n",
        ")\n",
        "\n",
        "trainer = Trainer(\n",
        "    model=model,                         \n",
        "    args=training_args,                  \n",
        "    train_dataset=train_dataset,         \n",
        "    eval_dataset=dev_dataset             \n",
        ")\n",
        "\n",
        "trainer.train()\n",
        "#trainer.save_model(\"/content/drive/MyDrive/Hate Speech Detection/model/phobert-v3/\")"
      ],
      "metadata": {
        "colab": {
          "base_uri": "https://localhost:8080/",
          "height": 287
        },
        "id": "rUKkbYoVB3iP",
        "outputId": "e5647436-f9e7-4ae4-8b75-800a7be00c7b"
      },
      "execution_count": null,
      "outputs": [
        {
          "output_type": "stream",
          "name": "stderr",
          "text": [
            "/usr/local/lib/python3.10/dist-packages/transformers/optimization.py:411: FutureWarning: This implementation of AdamW is deprecated and will be removed in a future version. Use the PyTorch implementation torch.optim.AdamW instead, or set `no_deprecation_warning=True` to disable this warning\n",
            "  warnings.warn(\n"
          ]
        },
        {
          "output_type": "display_data",
          "data": {
            "text/plain": [
              "<IPython.core.display.HTML object>"
            ],
            "text/html": [
              "\n",
              "    <div>\n",
              "      \n",
              "      <progress value='2975' max='3006' style='width:300px; height:20px; vertical-align: middle;'></progress>\n",
              "      [2975/3006 14:49 < 00:09, 3.34 it/s, Epoch 1.98/2]\n",
              "    </div>\n",
              "    <table border=\"1\" class=\"dataframe\">\n",
              "  <thead>\n",
              " <tr style=\"text-align: left;\">\n",
              "      <th>Step</th>\n",
              "      <th>Training Loss</th>\n",
              "    </tr>\n",
              "  </thead>\n",
              "  <tbody>\n",
              "    <tr>\n",
              "      <td>500</td>\n",
              "      <td>0.551600</td>\n",
              "    </tr>\n",
              "    <tr>\n",
              "      <td>1000</td>\n",
              "      <td>0.438600</td>\n",
              "    </tr>\n",
              "    <tr>\n",
              "      <td>1500</td>\n",
              "      <td>0.408300</td>\n",
              "    </tr>\n",
              "    <tr>\n",
              "      <td>2000</td>\n",
              "      <td>0.331500</td>\n",
              "    </tr>\n",
              "    <tr>\n",
              "      <td>2500</td>\n",
              "      <td>0.303700</td>\n",
              "    </tr>\n",
              "  </tbody>\n",
              "</table><p>"
            ]
          },
          "metadata": {}
        }
      ]
    },
    {
      "cell_type": "code",
      "source": [
        "y_pred_classify = trainer.predict(test_dataset)\n",
        "\n",
        "y_pred = np.argmax(y_pred_classify.predictions, axis=-1)\n",
        "y_true = test_y\n",
        "\n",
        "cf1 = confusion_matrix(y_true, y_pred)\n",
        "print(cf1)\n",
        "\n",
        "evaluation = f1_score(y_true, y_pred, average='micro')\n",
        "\n",
        "print(\"F1 - micro: \" + str(evaluation))\n",
        "\n",
        "evaluation = f1_score(y_true, y_pred, average='macro')\n",
        "print(\"F1 - macro: \" + str(evaluation))\n",
        "\n",
        "# Show out the confusion matrix\n",
        "df_cm1 = pd.DataFrame(cf1, index = [\"clean\",\"offensive\",\"hate\"],\n",
        "                  columns = [\"clean\",\"offensive\",\"hate\"])\n",
        "plt.clf()\n",
        "sn.heatmap(df_cm1, annot=True, cmap=\"Greys\",fmt='g', cbar=True, annot_kws={\"size\": 30})"
      ],
      "metadata": {
        "id": "-a0-yoAzh3zk"
      },
      "execution_count": null,
      "outputs": []
    }
  ]
}